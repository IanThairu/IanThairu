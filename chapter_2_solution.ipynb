{
  "metadata": {
    "language_info": {
      "codemirror_mode": {
        "name": "ipython",
        "version": 3
      },
      "file_extension": ".py",
      "mimetype": "text/x-python",
      "name": "python",
      "nbconvert_exporter": "python",
      "pygments_lexer": "ipython3",
      "version": "3.8.3-final"
    },
    "orig_nbformat": 2,
    "kernelspec": {
      "name": "python3",
      "display_name": "Python 3",
      "language": "python"
    },
    "colab": {
      "provenance": [],
      "include_colab_link": true
    }
  },
  "nbformat": 4,
  "nbformat_minor": 0,
  "cells": [
    {
      "cell_type": "markdown",
      "metadata": {
        "id": "view-in-github",
        "colab_type": "text"
      },
      "source": [
        "<a href=\"https://colab.research.google.com/github/IanThairu/IanThairu/blob/main/chapter_2_solution.ipynb\" target=\"_parent\"><img src=\"https://colab.research.google.com/assets/colab-badge.svg\" alt=\"Open In Colab\"/></a>"
      ]
    },
    {
      "source": [
        "# Vehicle Loan Prediction Machine Learning Model\n",
        "\n",
        "# Chapter 2 - Load and Clean the Data\n",
        "\n",
        "## Lesson 1 - Getting Started\n",
        "\n",
        "In this lesson, we will import the required libraries and load the data!\n",
        "\n",
        "### Import Libraries"
      ],
      "cell_type": "markdown",
      "metadata": {
        "id": "qC2TRlglJNxQ"
      }
    },
    {
      "cell_type": "code",
      "execution_count": 1,
      "metadata": {
        "id": "9l5iiP-WJNxT"
      },
      "outputs": [],
      "source": [
        "import pandas as pd\n",
        "import matplotlib.pyplot as plt\n",
        "import numpy as np\n",
        "import seaborn as sns"
      ]
    },
    {
      "source": [
        "### Loading the Data\n",
        "\n",
        "- Our vehicle loan data is provided in csv format \n",
        "- We can load it into python as a [DataFrame](https://pandas.pydata.org/pandas-docs/stable/reference/api/pandas.DataFrame.html) with [pd.read_csv](https://pandas.pydata.org/pandas-docs/stable/reference/api/pandas.read_csv.html)\n",
        "- Each loan in our dataset has a UNIQUEID which we will use as the row index\n",
        "\n",
        "First, let's use pandas to load our loan data and store it in a variable called loan_df\n",
        "\n",
        "- Replace ‘../data/vehicle_loans.csv’ with your local file path and name"
      ],
      "cell_type": "markdown",
      "metadata": {
        "id": "YRSBbQ6mJNxU"
      }
    },
    {
      "cell_type": "code",
      "execution_count": 2,
      "metadata": {
        "id": "O81SXk-4JNxV"
      },
      "outputs": [],
      "source": [
        "loan_df = pd.read_csv('/content/vehicle_loans.csv', index_col='UNIQUEID')"
      ]
    },
    {
      "source": [
        "We can use [df.head](https://pandas.pydata.org/pandas-docs/stable/reference/api/pandas.DataFrame.head.html) to get the first n rows from a DataFrame\n",
        "\n",
        "- defaults to bring out the first 5 rows"
      ],
      "cell_type": "markdown",
      "metadata": {
        "id": "pLOPQZAGJNxV"
      }
    },
    {
      "cell_type": "code",
      "execution_count": 3,
      "metadata": {
        "colab": {
          "base_uri": "https://localhost:8080/",
          "height": 331
        },
        "id": "JUO7nHbyJNxW",
        "outputId": "e42d2b3a-6e6e-44eb-b432-e0eeb85948b1"
      },
      "outputs": [
        {
          "output_type": "execute_result",
          "data": {
            "text/plain": [
              "          DISBURSED_AMOUNT  ASSET_COST    LTV  BRANCH_ID  SUPPLIER_ID  \\\n",
              "UNIQUEID                                                                \n",
              "420825               50578       58400  89.55         67        22807   \n",
              "537409               47145       65550  73.23         67        22807   \n",
              "417566               53278       61360  89.63         67        22807   \n",
              "624493               57513       66113  88.48         67        22807   \n",
              "539055               52378       60300  88.39         67        22807   \n",
              "\n",
              "          MANUFACTURER_ID  CURRENT_PINCODE_ID DATE_OF_BIRTH EMPLOYMENT_TYPE  \\\n",
              "UNIQUEID                                                                      \n",
              "420825                 45                1441    01-01-1984        Salaried   \n",
              "537409                 45                1502    31-07-1985   Self employed   \n",
              "417566                 45                1497    24-08-1985   Self employed   \n",
              "624493                 45                1501    30-12-1993   Self employed   \n",
              "539055                 45                1495    09-12-1977   Self employed   \n",
              "\n",
              "         DISBURSAL_DATE  ...  SEC_SANCTIONED_AMOUNT  SEC_DISBURSED_AMOUNT  \\\n",
              "UNIQUEID                 ...                                                \n",
              "420825       03-08-2018  ...                      0                     0   \n",
              "537409       26-09-2018  ...                      0                     0   \n",
              "417566       01-08-2018  ...                      0                     0   \n",
              "624493       26-10-2018  ...                      0                     0   \n",
              "539055       26-09-2018  ...                      0                     0   \n",
              "\n",
              "          PRIMARY_INSTAL_AMT  SEC_INSTAL_AMT  NEW_ACCTS_IN_LAST_SIX_MONTHS  \\\n",
              "UNIQUEID                                                                     \n",
              "420825                     0               0                             0   \n",
              "537409                  1991               0                             0   \n",
              "417566                     0               0                             0   \n",
              "624493                    31               0                             0   \n",
              "539055                     0               0                             0   \n",
              "\n",
              "          DELINQUENT_ACCTS_IN_LAST_SIX_MONTHS  AVERAGE_ACCT_AGE  \\\n",
              "UNIQUEID                                                          \n",
              "420825                                      0         0yrs 0mon   \n",
              "537409                                      1        1yrs 11mon   \n",
              "417566                                      0         0yrs 0mon   \n",
              "624493                                      0         0yrs 8mon   \n",
              "539055                                      0         0yrs 0mon   \n",
              "\n",
              "          CREDIT_HISTORY_LENGTH  NO_OF_INQUIRIES LOAN_DEFAULT  \n",
              "UNIQUEID                                                       \n",
              "420825                0yrs 0mon                0            0  \n",
              "537409               1yrs 11mon                0            1  \n",
              "417566                0yrs 0mon                0            0  \n",
              "624493                1yrs 3mon                1            1  \n",
              "539055                0yrs 0mon                1            1  \n",
              "\n",
              "[5 rows x 40 columns]"
            ],
            "text/html": [
              "\n",
              "  <div id=\"df-f255ed9f-0e93-485f-a403-e307096e9a40\">\n",
              "    <div class=\"colab-df-container\">\n",
              "      <div>\n",
              "<style scoped>\n",
              "    .dataframe tbody tr th:only-of-type {\n",
              "        vertical-align: middle;\n",
              "    }\n",
              "\n",
              "    .dataframe tbody tr th {\n",
              "        vertical-align: top;\n",
              "    }\n",
              "\n",
              "    .dataframe thead th {\n",
              "        text-align: right;\n",
              "    }\n",
              "</style>\n",
              "<table border=\"1\" class=\"dataframe\">\n",
              "  <thead>\n",
              "    <tr style=\"text-align: right;\">\n",
              "      <th></th>\n",
              "      <th>DISBURSED_AMOUNT</th>\n",
              "      <th>ASSET_COST</th>\n",
              "      <th>LTV</th>\n",
              "      <th>BRANCH_ID</th>\n",
              "      <th>SUPPLIER_ID</th>\n",
              "      <th>MANUFACTURER_ID</th>\n",
              "      <th>CURRENT_PINCODE_ID</th>\n",
              "      <th>DATE_OF_BIRTH</th>\n",
              "      <th>EMPLOYMENT_TYPE</th>\n",
              "      <th>DISBURSAL_DATE</th>\n",
              "      <th>...</th>\n",
              "      <th>SEC_SANCTIONED_AMOUNT</th>\n",
              "      <th>SEC_DISBURSED_AMOUNT</th>\n",
              "      <th>PRIMARY_INSTAL_AMT</th>\n",
              "      <th>SEC_INSTAL_AMT</th>\n",
              "      <th>NEW_ACCTS_IN_LAST_SIX_MONTHS</th>\n",
              "      <th>DELINQUENT_ACCTS_IN_LAST_SIX_MONTHS</th>\n",
              "      <th>AVERAGE_ACCT_AGE</th>\n",
              "      <th>CREDIT_HISTORY_LENGTH</th>\n",
              "      <th>NO_OF_INQUIRIES</th>\n",
              "      <th>LOAN_DEFAULT</th>\n",
              "    </tr>\n",
              "    <tr>\n",
              "      <th>UNIQUEID</th>\n",
              "      <th></th>\n",
              "      <th></th>\n",
              "      <th></th>\n",
              "      <th></th>\n",
              "      <th></th>\n",
              "      <th></th>\n",
              "      <th></th>\n",
              "      <th></th>\n",
              "      <th></th>\n",
              "      <th></th>\n",
              "      <th></th>\n",
              "      <th></th>\n",
              "      <th></th>\n",
              "      <th></th>\n",
              "      <th></th>\n",
              "      <th></th>\n",
              "      <th></th>\n",
              "      <th></th>\n",
              "      <th></th>\n",
              "      <th></th>\n",
              "      <th></th>\n",
              "    </tr>\n",
              "  </thead>\n",
              "  <tbody>\n",
              "    <tr>\n",
              "      <th>420825</th>\n",
              "      <td>50578</td>\n",
              "      <td>58400</td>\n",
              "      <td>89.55</td>\n",
              "      <td>67</td>\n",
              "      <td>22807</td>\n",
              "      <td>45</td>\n",
              "      <td>1441</td>\n",
              "      <td>01-01-1984</td>\n",
              "      <td>Salaried</td>\n",
              "      <td>03-08-2018</td>\n",
              "      <td>...</td>\n",
              "      <td>0</td>\n",
              "      <td>0</td>\n",
              "      <td>0</td>\n",
              "      <td>0</td>\n",
              "      <td>0</td>\n",
              "      <td>0</td>\n",
              "      <td>0yrs 0mon</td>\n",
              "      <td>0yrs 0mon</td>\n",
              "      <td>0</td>\n",
              "      <td>0</td>\n",
              "    </tr>\n",
              "    <tr>\n",
              "      <th>537409</th>\n",
              "      <td>47145</td>\n",
              "      <td>65550</td>\n",
              "      <td>73.23</td>\n",
              "      <td>67</td>\n",
              "      <td>22807</td>\n",
              "      <td>45</td>\n",
              "      <td>1502</td>\n",
              "      <td>31-07-1985</td>\n",
              "      <td>Self employed</td>\n",
              "      <td>26-09-2018</td>\n",
              "      <td>...</td>\n",
              "      <td>0</td>\n",
              "      <td>0</td>\n",
              "      <td>1991</td>\n",
              "      <td>0</td>\n",
              "      <td>0</td>\n",
              "      <td>1</td>\n",
              "      <td>1yrs 11mon</td>\n",
              "      <td>1yrs 11mon</td>\n",
              "      <td>0</td>\n",
              "      <td>1</td>\n",
              "    </tr>\n",
              "    <tr>\n",
              "      <th>417566</th>\n",
              "      <td>53278</td>\n",
              "      <td>61360</td>\n",
              "      <td>89.63</td>\n",
              "      <td>67</td>\n",
              "      <td>22807</td>\n",
              "      <td>45</td>\n",
              "      <td>1497</td>\n",
              "      <td>24-08-1985</td>\n",
              "      <td>Self employed</td>\n",
              "      <td>01-08-2018</td>\n",
              "      <td>...</td>\n",
              "      <td>0</td>\n",
              "      <td>0</td>\n",
              "      <td>0</td>\n",
              "      <td>0</td>\n",
              "      <td>0</td>\n",
              "      <td>0</td>\n",
              "      <td>0yrs 0mon</td>\n",
              "      <td>0yrs 0mon</td>\n",
              "      <td>0</td>\n",
              "      <td>0</td>\n",
              "    </tr>\n",
              "    <tr>\n",
              "      <th>624493</th>\n",
              "      <td>57513</td>\n",
              "      <td>66113</td>\n",
              "      <td>88.48</td>\n",
              "      <td>67</td>\n",
              "      <td>22807</td>\n",
              "      <td>45</td>\n",
              "      <td>1501</td>\n",
              "      <td>30-12-1993</td>\n",
              "      <td>Self employed</td>\n",
              "      <td>26-10-2018</td>\n",
              "      <td>...</td>\n",
              "      <td>0</td>\n",
              "      <td>0</td>\n",
              "      <td>31</td>\n",
              "      <td>0</td>\n",
              "      <td>0</td>\n",
              "      <td>0</td>\n",
              "      <td>0yrs 8mon</td>\n",
              "      <td>1yrs 3mon</td>\n",
              "      <td>1</td>\n",
              "      <td>1</td>\n",
              "    </tr>\n",
              "    <tr>\n",
              "      <th>539055</th>\n",
              "      <td>52378</td>\n",
              "      <td>60300</td>\n",
              "      <td>88.39</td>\n",
              "      <td>67</td>\n",
              "      <td>22807</td>\n",
              "      <td>45</td>\n",
              "      <td>1495</td>\n",
              "      <td>09-12-1977</td>\n",
              "      <td>Self employed</td>\n",
              "      <td>26-09-2018</td>\n",
              "      <td>...</td>\n",
              "      <td>0</td>\n",
              "      <td>0</td>\n",
              "      <td>0</td>\n",
              "      <td>0</td>\n",
              "      <td>0</td>\n",
              "      <td>0</td>\n",
              "      <td>0yrs 0mon</td>\n",
              "      <td>0yrs 0mon</td>\n",
              "      <td>1</td>\n",
              "      <td>1</td>\n",
              "    </tr>\n",
              "  </tbody>\n",
              "</table>\n",
              "<p>5 rows × 40 columns</p>\n",
              "</div>\n",
              "      <button class=\"colab-df-convert\" onclick=\"convertToInteractive('df-f255ed9f-0e93-485f-a403-e307096e9a40')\"\n",
              "              title=\"Convert this dataframe to an interactive table.\"\n",
              "              style=\"display:none;\">\n",
              "        \n",
              "  <svg xmlns=\"http://www.w3.org/2000/svg\" height=\"24px\"viewBox=\"0 0 24 24\"\n",
              "       width=\"24px\">\n",
              "    <path d=\"M0 0h24v24H0V0z\" fill=\"none\"/>\n",
              "    <path d=\"M18.56 5.44l.94 2.06.94-2.06 2.06-.94-2.06-.94-.94-2.06-.94 2.06-2.06.94zm-11 1L8.5 8.5l.94-2.06 2.06-.94-2.06-.94L8.5 2.5l-.94 2.06-2.06.94zm10 10l.94 2.06.94-2.06 2.06-.94-2.06-.94-.94-2.06-.94 2.06-2.06.94z\"/><path d=\"M17.41 7.96l-1.37-1.37c-.4-.4-.92-.59-1.43-.59-.52 0-1.04.2-1.43.59L10.3 9.45l-7.72 7.72c-.78.78-.78 2.05 0 2.83L4 21.41c.39.39.9.59 1.41.59.51 0 1.02-.2 1.41-.59l7.78-7.78 2.81-2.81c.8-.78.8-2.07 0-2.86zM5.41 20L4 18.59l7.72-7.72 1.47 1.35L5.41 20z\"/>\n",
              "  </svg>\n",
              "      </button>\n",
              "      \n",
              "  <style>\n",
              "    .colab-df-container {\n",
              "      display:flex;\n",
              "      flex-wrap:wrap;\n",
              "      gap: 12px;\n",
              "    }\n",
              "\n",
              "    .colab-df-convert {\n",
              "      background-color: #E8F0FE;\n",
              "      border: none;\n",
              "      border-radius: 50%;\n",
              "      cursor: pointer;\n",
              "      display: none;\n",
              "      fill: #1967D2;\n",
              "      height: 32px;\n",
              "      padding: 0 0 0 0;\n",
              "      width: 32px;\n",
              "    }\n",
              "\n",
              "    .colab-df-convert:hover {\n",
              "      background-color: #E2EBFA;\n",
              "      box-shadow: 0px 1px 2px rgba(60, 64, 67, 0.3), 0px 1px 3px 1px rgba(60, 64, 67, 0.15);\n",
              "      fill: #174EA6;\n",
              "    }\n",
              "\n",
              "    [theme=dark] .colab-df-convert {\n",
              "      background-color: #3B4455;\n",
              "      fill: #D2E3FC;\n",
              "    }\n",
              "\n",
              "    [theme=dark] .colab-df-convert:hover {\n",
              "      background-color: #434B5C;\n",
              "      box-shadow: 0px 1px 3px 1px rgba(0, 0, 0, 0.15);\n",
              "      filter: drop-shadow(0px 1px 2px rgba(0, 0, 0, 0.3));\n",
              "      fill: #FFFFFF;\n",
              "    }\n",
              "  </style>\n",
              "\n",
              "      <script>\n",
              "        const buttonEl =\n",
              "          document.querySelector('#df-f255ed9f-0e93-485f-a403-e307096e9a40 button.colab-df-convert');\n",
              "        buttonEl.style.display =\n",
              "          google.colab.kernel.accessAllowed ? 'block' : 'none';\n",
              "\n",
              "        async function convertToInteractive(key) {\n",
              "          const element = document.querySelector('#df-f255ed9f-0e93-485f-a403-e307096e9a40');\n",
              "          const dataTable =\n",
              "            await google.colab.kernel.invokeFunction('convertToInteractive',\n",
              "                                                     [key], {});\n",
              "          if (!dataTable) return;\n",
              "\n",
              "          const docLinkHtml = 'Like what you see? Visit the ' +\n",
              "            '<a target=\"_blank\" href=https://colab.research.google.com/notebooks/data_table.ipynb>data table notebook</a>'\n",
              "            + ' to learn more about interactive tables.';\n",
              "          element.innerHTML = '';\n",
              "          dataTable['output_type'] = 'display_data';\n",
              "          await google.colab.output.renderOutput(dataTable, element);\n",
              "          const docLink = document.createElement('div');\n",
              "          docLink.innerHTML = docLinkHtml;\n",
              "          element.appendChild(docLink);\n",
              "        }\n",
              "      </script>\n",
              "    </div>\n",
              "  </div>\n",
              "  "
            ]
          },
          "metadata": {},
          "execution_count": 3
        }
      ],
      "source": [
        "loan_df.head()"
      ]
    },
    {
      "source": [
        "## Lesson 2 - First Look\n",
        "\n",
        "Now that we have loaded the data, let's take a closer Look\n",
        "\n",
        "### Rows and Columns\n",
        "\n",
        "- How many data points do we have?\n",
        "- How many attributes are there?\n",
        "- We can get the dimensions of our DataFrame using [df.shape](https://pandas.pydata.org/pandas-docs/stable/reference/api/pandas.DataFrame.shape.html)"
      ],
      "cell_type": "markdown",
      "metadata": {
        "id": "sPiAj46PJNxW"
      }
    },
    {
      "cell_type": "code",
      "execution_count": 4,
      "metadata": {
        "colab": {
          "base_uri": "https://localhost:8080/"
        },
        "id": "0jzr0AcIJNxW",
        "outputId": "3ef5238f-5cb2-4ae2-d270-a020a5dcf764"
      },
      "outputs": [
        {
          "output_type": "execute_result",
          "data": {
            "text/plain": [
              "(233154, 40)"
            ]
          },
          "metadata": {},
          "execution_count": 4
        }
      ],
      "source": [
        "loan_df.shape"
      ]
    },
    {
      "source": [
        "- The shape property of a dataframe contains a tuple with the dimensions of the dataframe\n",
        "- A tuple is an ordered immutable (unchangeable) collection \n",
        "- Tuple elements can be accessed using indexes, like lists"
      ],
      "cell_type": "markdown",
      "metadata": {
        "id": "pZ-fXUkzJNxW"
      }
    },
    {
      "cell_type": "code",
      "execution_count": 5,
      "metadata": {
        "colab": {
          "base_uri": "https://localhost:8080/"
        },
        "id": "eadSOLnbJNxW",
        "outputId": "cb0c53d5-c44b-41a2-e307-6ea0f68cd493"
      },
      "outputs": [
        {
          "output_type": "stream",
          "name": "stdout",
          "text": [
            "Number of rows:  233154\n",
            "Number of columns:  40\n"
          ]
        }
      ],
      "source": [
        "print(\"Number of rows: \", loan_df.shape[0])\n",
        "print(\"Number of columns: \", loan_df.shape[1])"
      ]
    },
    {
      "source": [
        "Ok, so we have 233154 data points each with 40 variables\n"
      ],
      "cell_type": "markdown",
      "metadata": {
        "id": "7buwCH-UJNxX"
      }
    },
    {
      "source": [
        "### Variable Types\n",
        "\n",
        "- Before we go any further it is important to understand the type of data stored in our columns\n",
        "- Pandas [df.info()](https://pandas.pydata.org/pandas-docs/stable/reference/api/pandas.DataFrame.info.html) shows us both the data type and the not null count for each column\n"
      ],
      "cell_type": "markdown",
      "metadata": {
        "id": "csVE-DdsJNxX"
      }
    },
    {
      "cell_type": "code",
      "execution_count": 6,
      "metadata": {
        "colab": {
          "base_uri": "https://localhost:8080/"
        },
        "id": "Noax7buFJNxX",
        "outputId": "c9349f10-ae63-4d4d-e01e-0d0a0f714b0b"
      },
      "outputs": [
        {
          "output_type": "stream",
          "name": "stdout",
          "text": [
            "<class 'pandas.core.frame.DataFrame'>\n",
            "Int64Index: 233154 entries, 420825 to 630213\n",
            "Data columns (total 40 columns):\n",
            " #   Column                               Non-Null Count   Dtype  \n",
            "---  ------                               --------------   -----  \n",
            " 0   DISBURSED_AMOUNT                     233154 non-null  int64  \n",
            " 1   ASSET_COST                           233154 non-null  int64  \n",
            " 2   LTV                                  233154 non-null  float64\n",
            " 3   BRANCH_ID                            233154 non-null  int64  \n",
            " 4   SUPPLIER_ID                          233154 non-null  int64  \n",
            " 5   MANUFACTURER_ID                      233154 non-null  int64  \n",
            " 6   CURRENT_PINCODE_ID                   233154 non-null  int64  \n",
            " 7   DATE_OF_BIRTH                        233154 non-null  object \n",
            " 8   EMPLOYMENT_TYPE                      225493 non-null  object \n",
            " 9   DISBURSAL_DATE                       233154 non-null  object \n",
            " 10  STATE_ID                             233154 non-null  int64  \n",
            " 11  EMPLOYEE_CODE_ID                     233154 non-null  int64  \n",
            " 12  MOBILENO_AVL_FLAG                    233154 non-null  int64  \n",
            " 13  AADHAR_FLAG                          233154 non-null  int64  \n",
            " 14  PAN_FLAG                             233154 non-null  int64  \n",
            " 15  VOTERID_FLAG                         233154 non-null  int64  \n",
            " 16  DRIVING_FLAG                         233154 non-null  int64  \n",
            " 17  PASSPORT_FLAG                        233154 non-null  int64  \n",
            " 18  PERFORM_CNS_SCORE                    233154 non-null  int64  \n",
            " 19  PERFORM_CNS_SCORE_DESCRIPTION        233154 non-null  object \n",
            " 20  PRI_NO_OF_ACCTS                      233154 non-null  int64  \n",
            " 21  PRI_ACTIVE_ACCTS                     233154 non-null  int64  \n",
            " 22  PRI_OVERDUE_ACCTS                    233154 non-null  int64  \n",
            " 23  PRI_CURRENT_BALANCE                  233154 non-null  int64  \n",
            " 24  PRI_SANCTIONED_AMOUNT                233154 non-null  int64  \n",
            " 25  PRI_DISBURSED_AMOUNT                 233154 non-null  int64  \n",
            " 26  SEC_NO_OF_ACCTS                      233154 non-null  int64  \n",
            " 27  SEC_ACTIVE_ACCTS                     233154 non-null  int64  \n",
            " 28  SEC_OVERDUE_ACCTS                    233154 non-null  int64  \n",
            " 29  SEC_CURRENT_BALANCE                  233154 non-null  int64  \n",
            " 30  SEC_SANCTIONED_AMOUNT                233154 non-null  int64  \n",
            " 31  SEC_DISBURSED_AMOUNT                 233154 non-null  int64  \n",
            " 32  PRIMARY_INSTAL_AMT                   233154 non-null  int64  \n",
            " 33  SEC_INSTAL_AMT                       233154 non-null  int64  \n",
            " 34  NEW_ACCTS_IN_LAST_SIX_MONTHS         233154 non-null  int64  \n",
            " 35  DELINQUENT_ACCTS_IN_LAST_SIX_MONTHS  233154 non-null  int64  \n",
            " 36  AVERAGE_ACCT_AGE                     233154 non-null  object \n",
            " 37  CREDIT_HISTORY_LENGTH                233154 non-null  object \n",
            " 38  NO_OF_INQUIRIES                      233154 non-null  int64  \n",
            " 39  LOAN_DEFAULT                         233154 non-null  int64  \n",
            "dtypes: float64(1), int64(33), object(6)\n",
            "memory usage: 72.9+ MB\n"
          ]
        }
      ],
      "source": [
        "loan_df.info()"
      ]
    },
    {
      "source": [
        "Now we know we have 3 data types:\n",
        "- int64 (whole number)\n",
        "- float64 (floating point number)\n",
        "- object (string or non-numeric)\n",
        "\n",
        "Straight away there are some interesting things,\n",
        "\n",
        "DATE_OF_BIRTH, EMPLOYMENT_TYPE, DISBURSAL_DATE, PERFORM_CNS_SCORE_DESCRIPTION, AVERAGE_ACCT_AGE and CREDIT_HISTORY_LENGTH are all object data types, meaning they contain non-numeric values such as strings or dates. \n",
        "\n",
        "EMPLOYMENT_TYPE has some missing values\n"
      ],
      "cell_type": "markdown",
      "metadata": {
        "id": "MxuGlX59JNxX"
      }
    },
    {
      "source": [
        "### Date Range\n",
        "\n",
        "DISBURSAL_DATE contains the date the agreed loan amount was transferred to the applicant, let's use it to get an idea of the timeframe covered by the data \n",
        "\n",
        "The first step is to convert DISBURSAL_DATE to a datetime\n",
        "- We can use [pd.to_datetime](https://pandas.pydata.org/pandas-docs/stable/reference/api/pandas.to_datetime.html) to convert an entire column to datetime \n",
        "\n"
      ],
      "cell_type": "markdown",
      "metadata": {
        "id": "iDjopFgqJNxX"
      }
    },
    {
      "cell_type": "code",
      "execution_count": 7,
      "metadata": {
        "colab": {
          "base_uri": "https://localhost:8080/"
        },
        "id": "EdJWl5bJJNxY",
        "outputId": "c2017059-e877-4099-d000-4bd9cf697d14"
      },
      "outputs": [
        {
          "output_type": "stream",
          "name": "stderr",
          "text": [
            "/usr/local/lib/python3.9/dist-packages/pandas/core/tools/datetimes.py:1047: UserWarning: Parsing '26-09-2018' in DD/MM/YYYY format. Provide format or specify infer_datetime_format=True for consistent parsing.\n",
            "  cache_array = _maybe_cache(arg, format, cache, convert_listlike)\n",
            "/usr/local/lib/python3.9/dist-packages/pandas/core/tools/datetimes.py:1047: UserWarning: Parsing '26-10-2018' in DD/MM/YYYY format. Provide format or specify infer_datetime_format=True for consistent parsing.\n",
            "  cache_array = _maybe_cache(arg, format, cache, convert_listlike)\n",
            "/usr/local/lib/python3.9/dist-packages/pandas/core/tools/datetimes.py:1047: UserWarning: Parsing '19-09-2018' in DD/MM/YYYY format. Provide format or specify infer_datetime_format=True for consistent parsing.\n",
            "  cache_array = _maybe_cache(arg, format, cache, convert_listlike)\n",
            "/usr/local/lib/python3.9/dist-packages/pandas/core/tools/datetimes.py:1047: UserWarning: Parsing '23-09-2018' in DD/MM/YYYY format. Provide format or specify infer_datetime_format=True for consistent parsing.\n",
            "  cache_array = _maybe_cache(arg, format, cache, convert_listlike)\n",
            "/usr/local/lib/python3.9/dist-packages/pandas/core/tools/datetimes.py:1047: UserWarning: Parsing '16-09-2018' in DD/MM/YYYY format. Provide format or specify infer_datetime_format=True for consistent parsing.\n",
            "  cache_array = _maybe_cache(arg, format, cache, convert_listlike)\n",
            "/usr/local/lib/python3.9/dist-packages/pandas/core/tools/datetimes.py:1047: UserWarning: Parsing '29-09-2018' in DD/MM/YYYY format. Provide format or specify infer_datetime_format=True for consistent parsing.\n",
            "  cache_array = _maybe_cache(arg, format, cache, convert_listlike)\n",
            "/usr/local/lib/python3.9/dist-packages/pandas/core/tools/datetimes.py:1047: UserWarning: Parsing '30-08-2018' in DD/MM/YYYY format. Provide format or specify infer_datetime_format=True for consistent parsing.\n",
            "  cache_array = _maybe_cache(arg, format, cache, convert_listlike)\n",
            "/usr/local/lib/python3.9/dist-packages/pandas/core/tools/datetimes.py:1047: UserWarning: Parsing '31-08-2018' in DD/MM/YYYY format. Provide format or specify infer_datetime_format=True for consistent parsing.\n",
            "  cache_array = _maybe_cache(arg, format, cache, convert_listlike)\n",
            "/usr/local/lib/python3.9/dist-packages/pandas/core/tools/datetimes.py:1047: UserWarning: Parsing '22-10-2018' in DD/MM/YYYY format. Provide format or specify infer_datetime_format=True for consistent parsing.\n",
            "  cache_array = _maybe_cache(arg, format, cache, convert_listlike)\n",
            "/usr/local/lib/python3.9/dist-packages/pandas/core/tools/datetimes.py:1047: UserWarning: Parsing '18-09-2018' in DD/MM/YYYY format. Provide format or specify infer_datetime_format=True for consistent parsing.\n",
            "  cache_array = _maybe_cache(arg, format, cache, convert_listlike)\n",
            "/usr/local/lib/python3.9/dist-packages/pandas/core/tools/datetimes.py:1047: UserWarning: Parsing '20-09-2018' in DD/MM/YYYY format. Provide format or specify infer_datetime_format=True for consistent parsing.\n",
            "  cache_array = _maybe_cache(arg, format, cache, convert_listlike)\n",
            "/usr/local/lib/python3.9/dist-packages/pandas/core/tools/datetimes.py:1047: UserWarning: Parsing '20-10-2018' in DD/MM/YYYY format. Provide format or specify infer_datetime_format=True for consistent parsing.\n",
            "  cache_array = _maybe_cache(arg, format, cache, convert_listlike)\n",
            "/usr/local/lib/python3.9/dist-packages/pandas/core/tools/datetimes.py:1047: UserWarning: Parsing '27-08-2018' in DD/MM/YYYY format. Provide format or specify infer_datetime_format=True for consistent parsing.\n",
            "  cache_array = _maybe_cache(arg, format, cache, convert_listlike)\n",
            "/usr/local/lib/python3.9/dist-packages/pandas/core/tools/datetimes.py:1047: UserWarning: Parsing '17-09-2018' in DD/MM/YYYY format. Provide format or specify infer_datetime_format=True for consistent parsing.\n",
            "  cache_array = _maybe_cache(arg, format, cache, convert_listlike)\n",
            "/usr/local/lib/python3.9/dist-packages/pandas/core/tools/datetimes.py:1047: UserWarning: Parsing '18-10-2018' in DD/MM/YYYY format. Provide format or specify infer_datetime_format=True for consistent parsing.\n",
            "  cache_array = _maybe_cache(arg, format, cache, convert_listlike)\n",
            "/usr/local/lib/python3.9/dist-packages/pandas/core/tools/datetimes.py:1047: UserWarning: Parsing '16-08-2018' in DD/MM/YYYY format. Provide format or specify infer_datetime_format=True for consistent parsing.\n",
            "  cache_array = _maybe_cache(arg, format, cache, convert_listlike)\n",
            "/usr/local/lib/python3.9/dist-packages/pandas/core/tools/datetimes.py:1047: UserWarning: Parsing '23-10-2018' in DD/MM/YYYY format. Provide format or specify infer_datetime_format=True for consistent parsing.\n",
            "  cache_array = _maybe_cache(arg, format, cache, convert_listlike)\n",
            "/usr/local/lib/python3.9/dist-packages/pandas/core/tools/datetimes.py:1047: UserWarning: Parsing '30-09-2018' in DD/MM/YYYY format. Provide format or specify infer_datetime_format=True for consistent parsing.\n",
            "  cache_array = _maybe_cache(arg, format, cache, convert_listlike)\n",
            "/usr/local/lib/python3.9/dist-packages/pandas/core/tools/datetimes.py:1047: UserWarning: Parsing '21-09-2018' in DD/MM/YYYY format. Provide format or specify infer_datetime_format=True for consistent parsing.\n",
            "  cache_array = _maybe_cache(arg, format, cache, convert_listlike)\n",
            "/usr/local/lib/python3.9/dist-packages/pandas/core/tools/datetimes.py:1047: UserWarning: Parsing '21-08-2018' in DD/MM/YYYY format. Provide format or specify infer_datetime_format=True for consistent parsing.\n",
            "  cache_array = _maybe_cache(arg, format, cache, convert_listlike)\n",
            "/usr/local/lib/python3.9/dist-packages/pandas/core/tools/datetimes.py:1047: UserWarning: Parsing '14-08-2018' in DD/MM/YYYY format. Provide format or specify infer_datetime_format=True for consistent parsing.\n",
            "  cache_array = _maybe_cache(arg, format, cache, convert_listlike)\n",
            "/usr/local/lib/python3.9/dist-packages/pandas/core/tools/datetimes.py:1047: UserWarning: Parsing '17-10-2018' in DD/MM/YYYY format. Provide format or specify infer_datetime_format=True for consistent parsing.\n",
            "  cache_array = _maybe_cache(arg, format, cache, convert_listlike)\n",
            "/usr/local/lib/python3.9/dist-packages/pandas/core/tools/datetimes.py:1047: UserWarning: Parsing '30-10-2018' in DD/MM/YYYY format. Provide format or specify infer_datetime_format=True for consistent parsing.\n",
            "  cache_array = _maybe_cache(arg, format, cache, convert_listlike)\n",
            "/usr/local/lib/python3.9/dist-packages/pandas/core/tools/datetimes.py:1047: UserWarning: Parsing '16-10-2018' in DD/MM/YYYY format. Provide format or specify infer_datetime_format=True for consistent parsing.\n",
            "  cache_array = _maybe_cache(arg, format, cache, convert_listlike)\n",
            "/usr/local/lib/python3.9/dist-packages/pandas/core/tools/datetimes.py:1047: UserWarning: Parsing '21-10-2018' in DD/MM/YYYY format. Provide format or specify infer_datetime_format=True for consistent parsing.\n",
            "  cache_array = _maybe_cache(arg, format, cache, convert_listlike)\n",
            "/usr/local/lib/python3.9/dist-packages/pandas/core/tools/datetimes.py:1047: UserWarning: Parsing '15-09-2018' in DD/MM/YYYY format. Provide format or specify infer_datetime_format=True for consistent parsing.\n",
            "  cache_array = _maybe_cache(arg, format, cache, convert_listlike)\n",
            "/usr/local/lib/python3.9/dist-packages/pandas/core/tools/datetimes.py:1047: UserWarning: Parsing '24-10-2018' in DD/MM/YYYY format. Provide format or specify infer_datetime_format=True for consistent parsing.\n",
            "  cache_array = _maybe_cache(arg, format, cache, convert_listlike)\n",
            "/usr/local/lib/python3.9/dist-packages/pandas/core/tools/datetimes.py:1047: UserWarning: Parsing '28-08-2018' in DD/MM/YYYY format. Provide format or specify infer_datetime_format=True for consistent parsing.\n",
            "  cache_array = _maybe_cache(arg, format, cache, convert_listlike)\n",
            "/usr/local/lib/python3.9/dist-packages/pandas/core/tools/datetimes.py:1047: UserWarning: Parsing '13-09-2018' in DD/MM/YYYY format. Provide format or specify infer_datetime_format=True for consistent parsing.\n",
            "  cache_array = _maybe_cache(arg, format, cache, convert_listlike)\n",
            "/usr/local/lib/python3.9/dist-packages/pandas/core/tools/datetimes.py:1047: UserWarning: Parsing '31-10-2018' in DD/MM/YYYY format. Provide format or specify infer_datetime_format=True for consistent parsing.\n",
            "  cache_array = _maybe_cache(arg, format, cache, convert_listlike)\n",
            "/usr/local/lib/python3.9/dist-packages/pandas/core/tools/datetimes.py:1047: UserWarning: Parsing '24-08-2018' in DD/MM/YYYY format. Provide format or specify infer_datetime_format=True for consistent parsing.\n",
            "  cache_array = _maybe_cache(arg, format, cache, convert_listlike)\n",
            "/usr/local/lib/python3.9/dist-packages/pandas/core/tools/datetimes.py:1047: UserWarning: Parsing '14-10-2018' in DD/MM/YYYY format. Provide format or specify infer_datetime_format=True for consistent parsing.\n",
            "  cache_array = _maybe_cache(arg, format, cache, convert_listlike)\n",
            "/usr/local/lib/python3.9/dist-packages/pandas/core/tools/datetimes.py:1047: UserWarning: Parsing '13-10-2018' in DD/MM/YYYY format. Provide format or specify infer_datetime_format=True for consistent parsing.\n",
            "  cache_array = _maybe_cache(arg, format, cache, convert_listlike)\n",
            "/usr/local/lib/python3.9/dist-packages/pandas/core/tools/datetimes.py:1047: UserWarning: Parsing '28-09-2018' in DD/MM/YYYY format. Provide format or specify infer_datetime_format=True for consistent parsing.\n",
            "  cache_array = _maybe_cache(arg, format, cache, convert_listlike)\n",
            "/usr/local/lib/python3.9/dist-packages/pandas/core/tools/datetimes.py:1047: UserWarning: Parsing '25-10-2018' in DD/MM/YYYY format. Provide format or specify infer_datetime_format=True for consistent parsing.\n",
            "  cache_array = _maybe_cache(arg, format, cache, convert_listlike)\n",
            "/usr/local/lib/python3.9/dist-packages/pandas/core/tools/datetimes.py:1047: UserWarning: Parsing '29-10-2018' in DD/MM/YYYY format. Provide format or specify infer_datetime_format=True for consistent parsing.\n",
            "  cache_array = _maybe_cache(arg, format, cache, convert_listlike)\n",
            "/usr/local/lib/python3.9/dist-packages/pandas/core/tools/datetimes.py:1047: UserWarning: Parsing '25-08-2018' in DD/MM/YYYY format. Provide format or specify infer_datetime_format=True for consistent parsing.\n",
            "  cache_array = _maybe_cache(arg, format, cache, convert_listlike)\n",
            "/usr/local/lib/python3.9/dist-packages/pandas/core/tools/datetimes.py:1047: UserWarning: Parsing '26-08-2018' in DD/MM/YYYY format. Provide format or specify infer_datetime_format=True for consistent parsing.\n",
            "  cache_array = _maybe_cache(arg, format, cache, convert_listlike)\n",
            "/usr/local/lib/python3.9/dist-packages/pandas/core/tools/datetimes.py:1047: UserWarning: Parsing '27-10-2018' in DD/MM/YYYY format. Provide format or specify infer_datetime_format=True for consistent parsing.\n",
            "  cache_array = _maybe_cache(arg, format, cache, convert_listlike)\n",
            "/usr/local/lib/python3.9/dist-packages/pandas/core/tools/datetimes.py:1047: UserWarning: Parsing '18-08-2018' in DD/MM/YYYY format. Provide format or specify infer_datetime_format=True for consistent parsing.\n",
            "  cache_array = _maybe_cache(arg, format, cache, convert_listlike)\n",
            "/usr/local/lib/python3.9/dist-packages/pandas/core/tools/datetimes.py:1047: UserWarning: Parsing '23-08-2018' in DD/MM/YYYY format. Provide format or specify infer_datetime_format=True for consistent parsing.\n",
            "  cache_array = _maybe_cache(arg, format, cache, convert_listlike)\n",
            "/usr/local/lib/python3.9/dist-packages/pandas/core/tools/datetimes.py:1047: UserWarning: Parsing '20-08-2018' in DD/MM/YYYY format. Provide format or specify infer_datetime_format=True for consistent parsing.\n",
            "  cache_array = _maybe_cache(arg, format, cache, convert_listlike)\n",
            "/usr/local/lib/python3.9/dist-packages/pandas/core/tools/datetimes.py:1047: UserWarning: Parsing '22-09-2018' in DD/MM/YYYY format. Provide format or specify infer_datetime_format=True for consistent parsing.\n",
            "  cache_array = _maybe_cache(arg, format, cache, convert_listlike)\n",
            "/usr/local/lib/python3.9/dist-packages/pandas/core/tools/datetimes.py:1047: UserWarning: Parsing '24-09-2018' in DD/MM/YYYY format. Provide format or specify infer_datetime_format=True for consistent parsing.\n",
            "  cache_array = _maybe_cache(arg, format, cache, convert_listlike)\n",
            "/usr/local/lib/python3.9/dist-packages/pandas/core/tools/datetimes.py:1047: UserWarning: Parsing '15-10-2018' in DD/MM/YYYY format. Provide format or specify infer_datetime_format=True for consistent parsing.\n",
            "  cache_array = _maybe_cache(arg, format, cache, convert_listlike)\n",
            "/usr/local/lib/python3.9/dist-packages/pandas/core/tools/datetimes.py:1047: UserWarning: Parsing '28-10-2018' in DD/MM/YYYY format. Provide format or specify infer_datetime_format=True for consistent parsing.\n",
            "  cache_array = _maybe_cache(arg, format, cache, convert_listlike)\n",
            "/usr/local/lib/python3.9/dist-packages/pandas/core/tools/datetimes.py:1047: UserWarning: Parsing '14-09-2018' in DD/MM/YYYY format. Provide format or specify infer_datetime_format=True for consistent parsing.\n",
            "  cache_array = _maybe_cache(arg, format, cache, convert_listlike)\n",
            "/usr/local/lib/python3.9/dist-packages/pandas/core/tools/datetimes.py:1047: UserWarning: Parsing '13-08-2018' in DD/MM/YYYY format. Provide format or specify infer_datetime_format=True for consistent parsing.\n",
            "  cache_array = _maybe_cache(arg, format, cache, convert_listlike)\n",
            "/usr/local/lib/python3.9/dist-packages/pandas/core/tools/datetimes.py:1047: UserWarning: Parsing '17-08-2018' in DD/MM/YYYY format. Provide format or specify infer_datetime_format=True for consistent parsing.\n",
            "  cache_array = _maybe_cache(arg, format, cache, convert_listlike)\n",
            "/usr/local/lib/python3.9/dist-packages/pandas/core/tools/datetimes.py:1047: UserWarning: Parsing '29-08-2018' in DD/MM/YYYY format. Provide format or specify infer_datetime_format=True for consistent parsing.\n",
            "  cache_array = _maybe_cache(arg, format, cache, convert_listlike)\n",
            "/usr/local/lib/python3.9/dist-packages/pandas/core/tools/datetimes.py:1047: UserWarning: Parsing '27-09-2018' in DD/MM/YYYY format. Provide format or specify infer_datetime_format=True for consistent parsing.\n",
            "  cache_array = _maybe_cache(arg, format, cache, convert_listlike)\n",
            "/usr/local/lib/python3.9/dist-packages/pandas/core/tools/datetimes.py:1047: UserWarning: Parsing '25-09-2018' in DD/MM/YYYY format. Provide format or specify infer_datetime_format=True for consistent parsing.\n",
            "  cache_array = _maybe_cache(arg, format, cache, convert_listlike)\n",
            "/usr/local/lib/python3.9/dist-packages/pandas/core/tools/datetimes.py:1047: UserWarning: Parsing '22-08-2018' in DD/MM/YYYY format. Provide format or specify infer_datetime_format=True for consistent parsing.\n",
            "  cache_array = _maybe_cache(arg, format, cache, convert_listlike)\n",
            "/usr/local/lib/python3.9/dist-packages/pandas/core/tools/datetimes.py:1047: UserWarning: Parsing '19-10-2018' in DD/MM/YYYY format. Provide format or specify infer_datetime_format=True for consistent parsing.\n",
            "  cache_array = _maybe_cache(arg, format, cache, convert_listlike)\n"
          ]
        }
      ],
      "source": [
        "loan_df['DISBURSAL_DATE'] = pd.to_datetime(loan_df['DISBURSAL_DATE'])"
      ]
    },
    {
      "source": [
        "Now we can use [min](https://pandas.pydata.org/pandas-docs/stable/reference/api/pandas.Series.min.html) and [max] to look for the first and last loan disbursals in our data"
      ],
      "cell_type": "markdown",
      "metadata": {
        "id": "HOY1AkO2JNxY"
      }
    },
    {
      "cell_type": "code",
      "execution_count": 8,
      "metadata": {
        "colab": {
          "base_uri": "https://localhost:8080/"
        },
        "id": "t9ayAsZVJNxY",
        "outputId": "ebaf1170-d14a-43d3-cb68-95cf78c696d0"
      },
      "outputs": [
        {
          "output_type": "stream",
          "name": "stdout",
          "text": [
            "Maximum Disbursal Date:  2018-12-10 00:00:00\n",
            "Minium Disbursal Date:  2018-01-08 00:00:00\n"
          ]
        }
      ],
      "source": [
        "print(\"Maximum Disbursal Date: \", loan_df['DISBURSAL_DATE'].max())\n",
        "print(\"Minium Disbursal Date: \", loan_df['DISBURSAL_DATE'].min())"
      ]
    },
    {
      "source": [
        "We can do mathematical operations on datetimes to get the difference in days"
      ],
      "cell_type": "markdown",
      "metadata": {
        "id": "vTInkLVxJNxY"
      }
    },
    {
      "cell_type": "code",
      "execution_count": 9,
      "metadata": {
        "colab": {
          "base_uri": "https://localhost:8080/"
        },
        "id": "4YbkoMCeJNxY",
        "outputId": "ecf8f676-ee31-46e9-90e2-61ad56ad8c5f"
      },
      "outputs": [
        {
          "output_type": "stream",
          "name": "stdout",
          "text": [
            "Timespan of Data Set:  336 days 00:00:00\n"
          ]
        }
      ],
      "source": [
        "print(\"Timespan of Data Set: \", loan_df['DISBURSAL_DATE'].max() - loan_df['DISBURSAL_DATE'].min())"
      ]
    },
    {
      "source": [
        "### Now we know\n",
        "\n",
        "- Our dataset has information for 233154 loans \n",
        "- There are 40 variables \n",
        "- The data covers loans over 336 days between January and December 2018\n",
        "\n",
        "More detailed exploratory analysis will be covered in the next chapter\n",
        "\n",
        "For now, let's move on to look at what we are actually trying to predict"
      ],
      "cell_type": "markdown",
      "metadata": {
        "id": "F7-LTMlFJNxY"
      }
    },
    {
      "source": [
        "## Lesson 3 - Target Variable\n",
        "\n",
        "### What is the target variable?\n",
        "\n",
        "- Variable we are trying to predict\n",
        "- LOAN_DEFAULT is our target variable so lets investigate it further\n",
        "\n",
        "\n",
        "### Explore the Target Variable\n",
        "- How many people defaulted on their loans?\n",
        "- To count the frequency of unique values in a dataframe column we can use [value_counts](https://pandas.pydata.org/pandas-docs/stable/reference/api/pandas.Series.value_counts.html)"
      ],
      "cell_type": "markdown",
      "metadata": {
        "id": "n3P2ptwTJNxZ"
      }
    },
    {
      "cell_type": "code",
      "execution_count": 10,
      "metadata": {
        "colab": {
          "base_uri": "https://localhost:8080/"
        },
        "id": "i-zy6zs5JNxZ",
        "outputId": "a396a860-23b3-4d33-ee48-0ead21fe5557"
      },
      "outputs": [
        {
          "output_type": "execute_result",
          "data": {
            "text/plain": [
              "0    182543\n",
              "1     50611\n",
              "Name: LOAN_DEFAULT, dtype: int64"
            ]
          },
          "metadata": {},
          "execution_count": 10
        }
      ],
      "source": [
        "loan_df['LOAN_DEFAULT'].value_counts()"
      ]
    },
    {
      "source": [
        "Great! We can see that out of our 233154 loans, there are 50611 which defaulted\n",
        "\n",
        "The 'normalize' parameter lets us use value_counts to get a percentage"
      ],
      "cell_type": "markdown",
      "metadata": {
        "id": "kIBrQ1xTJNxZ"
      }
    },
    {
      "cell_type": "code",
      "execution_count": 11,
      "metadata": {
        "colab": {
          "base_uri": "https://localhost:8080/"
        },
        "id": "MEOKQ99yJNxZ",
        "outputId": "26a5a0c6-0271-4c6b-99aa-6ae2c0abe467"
      },
      "outputs": [
        {
          "output_type": "execute_result",
          "data": {
            "text/plain": [
              "0    0.782929\n",
              "1    0.217071\n",
              "Name: LOAN_DEFAULT, dtype: float64"
            ]
          },
          "metadata": {},
          "execution_count": 11
        }
      ],
      "source": [
        "loan_df['LOAN_DEFAULT'].value_counts(normalize=True)"
      ]
    },
    {
      "source": [
        "The rate of defaulted loans is about 21.7% keep this in mind!"
      ],
      "cell_type": "markdown",
      "metadata": {
        "id": "ZG8mns5AJNxZ"
      }
    },
    {
      "source": [
        "### Visualize the Target Variable\n",
        "\n",
        "Just for good measure lets visualize our target variable using the [countplot](https://seaborn.pydata.org/generated/seaborn.countplot.html) function from seaborn"
      ],
      "cell_type": "markdown",
      "metadata": {
        "id": "DzRJx6eDJNxZ"
      }
    },
    {
      "cell_type": "code",
      "execution_count": 12,
      "metadata": {
        "colab": {
          "base_uri": "https://localhost:8080/",
          "height": 449
        },
        "id": "g_5Wl0sdJNxZ",
        "outputId": "a3b8007f-35a1-42c9-e1ea-f1fb555fe8ab"
      },
      "outputs": [
        {
          "output_type": "display_data",
          "data": {
            "text/plain": [
              "<Figure size 640x480 with 1 Axes>"
            ],
            "image/png": "[encoded data removed]"
          },
          "metadata": {}
        }
      ],
      "source": [
        "sns.countplot(x=\"LOAN_DEFAULT\", data=loan_df)\n",
        "plt.show()"
      ]
    },
    {
      "source": [
        "## Lesson 4 - Missing Values\n",
        "\n",
        "We saw earlier that our dataset contains some missing values, specifically for the EMPLOYMENT_TYPE column.\n",
        "\n",
        "### Identifying Missing Data\n",
        "\n",
        "Time to investigate what we saw earlier by identifying the columns with missing values\n",
        "\n",
        "Using [df.isnull](https://pandas.pydata.org/pandas-docs/stable/reference/api/pandas.isnull.html) we can find those columns which have at least one null value\n"
      ],
      "cell_type": "markdown",
      "metadata": {
        "id": "vuQdRW6OJNxa"
      }
    },
    {
      "cell_type": "code",
      "execution_count": 13,
      "metadata": {
        "colab": {
          "base_uri": "https://localhost:8080/",
          "height": 519
        },
        "id": "Bhg9ygryJNxa",
        "outputId": "11e86088-77ca-42bf-8113-f187cae61cea"
      },
      "outputs": [
        {
          "output_type": "execute_result",
          "data": {
            "text/plain": [
              "          DISBURSED_AMOUNT  ASSET_COST    LTV  BRANCH_ID  SUPPLIER_ID  \\\n",
              "UNIQUEID                                                                \n",
              "420825               False       False  False      False        False   \n",
              "537409               False       False  False      False        False   \n",
              "417566               False       False  False      False        False   \n",
              "624493               False       False  False      False        False   \n",
              "539055               False       False  False      False        False   \n",
              "...                    ...         ...    ...        ...          ...   \n",
              "626432               False       False  False      False        False   \n",
              "606141               False       False  False      False        False   \n",
              "613658               False       False  False      False        False   \n",
              "548084               False       False  False      False        False   \n",
              "630213               False       False  False      False        False   \n",
              "\n",
              "          MANUFACTURER_ID  CURRENT_PINCODE_ID  DATE_OF_BIRTH  EMPLOYMENT_TYPE  \\\n",
              "UNIQUEID                                                                        \n",
              "420825              False               False          False            False   \n",
              "537409              False               False          False            False   \n",
              "417566              False               False          False            False   \n",
              "624493              False               False          False            False   \n",
              "539055              False               False          False            False   \n",
              "...                   ...                 ...            ...              ...   \n",
              "626432              False               False          False            False   \n",
              "606141              False               False          False            False   \n",
              "613658              False               False          False            False   \n",
              "548084              False               False          False            False   \n",
              "630213              False               False          False            False   \n",
              "\n",
              "          DISBURSAL_DATE  ...  SEC_SANCTIONED_AMOUNT  SEC_DISBURSED_AMOUNT  \\\n",
              "UNIQUEID                  ...                                                \n",
              "420825             False  ...                  False                 False   \n",
              "537409             False  ...                  False                 False   \n",
              "417566             False  ...                  False                 False   \n",
              "624493             False  ...                  False                 False   \n",
              "539055             False  ...                  False                 False   \n",
              "...                  ...  ...                    ...                   ...   \n",
              "626432             False  ...                  False                 False   \n",
              "606141             False  ...                  False                 False   \n",
              "613658             False  ...                  False                 False   \n",
              "548084             False  ...                  False                 False   \n",
              "630213             False  ...                  False                 False   \n",
              "\n",
              "          PRIMARY_INSTAL_AMT  SEC_INSTAL_AMT  NEW_ACCTS_IN_LAST_SIX_MONTHS  \\\n",
              "UNIQUEID                                                                     \n",
              "420825                 False           False                         False   \n",
              "537409                 False           False                         False   \n",
              "417566                 False           False                         False   \n",
              "624493                 False           False                         False   \n",
              "539055                 False           False                         False   \n",
              "...                      ...             ...                           ...   \n",
              "626432                 False           False                         False   \n",
              "606141                 False           False                         False   \n",
              "613658                 False           False                         False   \n",
              "548084                 False           False                         False   \n",
              "630213                 False           False                         False   \n",
              "\n",
              "          DELINQUENT_ACCTS_IN_LAST_SIX_MONTHS  AVERAGE_ACCT_AGE  \\\n",
              "UNIQUEID                                                          \n",
              "420825                                  False             False   \n",
              "537409                                  False             False   \n",
              "417566                                  False             False   \n",
              "624493                                  False             False   \n",
              "539055                                  False             False   \n",
              "...                                       ...               ...   \n",
              "626432                                  False             False   \n",
              "606141                                  False             False   \n",
              "613658                                  False             False   \n",
              "548084                                  False             False   \n",
              "630213                                  False             False   \n",
              "\n",
              "          CREDIT_HISTORY_LENGTH  NO_OF_INQUIRIES  LOAN_DEFAULT  \n",
              "UNIQUEID                                                        \n",
              "420825                    False            False         False  \n",
              "537409                    False            False         False  \n",
              "417566                    False            False         False  \n",
              "624493                    False            False         False  \n",
              "539055                    False            False         False  \n",
              "...                         ...              ...           ...  \n",
              "626432                    False            False         False  \n",
              "606141                    False            False         False  \n",
              "613658                    False            False         False  \n",
              "548084                    False            False         False  \n",
              "630213                    False            False         False  \n",
              "\n",
              "[233154 rows x 40 columns]"
            ],
            "text/html": [
              "\n",
              "  <div id=\"df-c31c89ff-a34f-49dc-b1f9-5ad844b87bb9\">\n",
              "    <div class=\"colab-df-container\">\n",
              "      <div>\n",
              "<style scoped>\n",
              "    .dataframe tbody tr th:only-of-type {\n",
              "        vertical-align: middle;\n",
              "    }\n",
              "\n",
              "    .dataframe tbody tr th {\n",
              "        vertical-align: top;\n",
              "    }\n",
              "\n",
              "    .dataframe thead th {\n",
              "        text-align: right;\n",
              "    }\n",
              "</style>\n",
              "<table border=\"1\" class=\"dataframe\">\n",
              "  <thead>\n",
              "    <tr style=\"text-align: right;\">\n",
              "      <th></th>\n",
              "      <th>DISBURSED_AMOUNT</th>\n",
              "      <th>ASSET_COST</th>\n",
              "      <th>LTV</th>\n",
              "      <th>BRANCH_ID</th>\n",
              "      <th>SUPPLIER_ID</th>\n",
              "      <th>MANUFACTURER_ID</th>\n",
              "      <th>CURRENT_PINCODE_ID</th>\n",
              "      <th>DATE_OF_BIRTH</th>\n",
              "      <th>EMPLOYMENT_TYPE</th>\n",
              "      <th>DISBURSAL_DATE</th>\n",
              "      <th>...</th>\n",
              "      <th>SEC_SANCTIONED_AMOUNT</th>\n",
              "      <th>SEC_DISBURSED_AMOUNT</th>\n",
              "      <th>PRIMARY_INSTAL_AMT</th>\n",
              "      <th>SEC_INSTAL_AMT</th>\n",
              "      <th>NEW_ACCTS_IN_LAST_SIX_MONTHS</th>\n",
              "      <th>DELINQUENT_ACCTS_IN_LAST_SIX_MONTHS</th>\n",
              "      <th>AVERAGE_ACCT_AGE</th>\n",
              "      <th>CREDIT_HISTORY_LENGTH</th>\n",
              "      <th>NO_OF_INQUIRIES</th>\n",
              "      <th>LOAN_DEFAULT</th>\n",
              "    </tr>\n",
              "    <tr>\n",
              "      <th>UNIQUEID</th>\n",
              "      <th></th>\n",
              "      <th></th>\n",
              "      <th></th>\n",
              "      <th></th>\n",
              "      <th></th>\n",
              "      <th></th>\n",
              "      <th></th>\n",
              "      <th></th>\n",
              "      <th></th>\n",
              "      <th></th>\n",
              "      <th></th>\n",
              "      <th></th>\n",
              "      <th></th>\n",
              "      <th></th>\n",
              "      <th></th>\n",
              "      <th></th>\n",
              "      <th></th>\n",
              "      <th></th>\n",
              "      <th></th>\n",
              "      <th></th>\n",
              "      <th></th>\n",
              "    </tr>\n",
              "  </thead>\n",
              "  <tbody>\n",
              "    <tr>\n",
              "      <th>420825</th>\n",
              "      <td>False</td>\n",
              "      <td>False</td>\n",
              "      <td>False</td>\n",
              "      <td>False</td>\n",
              "      <td>False</td>\n",
              "      <td>False</td>\n",
              "      <td>False</td>\n",
              "      <td>False</td>\n",
              "      <td>False</td>\n",
              "      <td>False</td>\n",
              "      <td>...</td>\n",
              "      <td>False</td>\n",
              "      <td>False</td>\n",
              "      <td>False</td>\n",
              "      <td>False</td>\n",
              "      <td>False</td>\n",
              "      <td>False</td>\n",
              "      <td>False</td>\n",
              "      <td>False</td>\n",
              "      <td>False</td>\n",
              "      <td>False</td>\n",
              "    </tr>\n",
              "    <tr>\n",
              "      <th>537409</th>\n",
              "      <td>False</td>\n",
              "      <td>False</td>\n",
              "      <td>False</td>\n",
              "      <td>False</td>\n",
              "      <td>False</td>\n",
              "      <td>False</td>\n",
              "      <td>False</td>\n",
              "      <td>False</td>\n",
              "      <td>False</td>\n",
              "      <td>False</td>\n",
              "      <td>...</td>\n",
              "      <td>False</td>\n",
              "      <td>False</td>\n",
              "      <td>False</td>\n",
              "      <td>False</td>\n",
              "      <td>False</td>\n",
              "      <td>False</td>\n",
              "      <td>False</td>\n",
              "      <td>False</td>\n",
              "      <td>False</td>\n",
              "      <td>False</td>\n",
              "    </tr>\n",
              "    <tr>\n",
              "      <th>417566</th>\n",
              "      <td>False</td>\n",
              "      <td>False</td>\n",
              "      <td>False</td>\n",
              "      <td>False</td>\n",
              "      <td>False</td>\n",
              "      <td>False</td>\n",
              "      <td>False</td>\n",
              "      <td>False</td>\n",
              "      <td>False</td>\n",
              "      <td>False</td>\n",
              "      <td>...</td>\n",
              "      <td>False</td>\n",
              "      <td>False</td>\n",
              "      <td>False</td>\n",
              "      <td>False</td>\n",
              "      <td>False</td>\n",
              "      <td>False</td>\n",
              "      <td>False</td>\n",
              "      <td>False</td>\n",
              "      <td>False</td>\n",
              "      <td>False</td>\n",
              "    </tr>\n",
              "    <tr>\n",
              "      <th>624493</th>\n",
              "      <td>False</td>\n",
              "      <td>False</td>\n",
              "      <td>False</td>\n",
              "      <td>False</td>\n",
              "      <td>False</td>\n",
              "      <td>False</td>\n",
              "      <td>False</td>\n",
              "      <td>False</td>\n",
              "      <td>False</td>\n",
              "      <td>False</td>\n",
              "      <td>...</td>\n",
              "      <td>False</td>\n",
              "      <td>False</td>\n",
              "      <td>False</td>\n",
              "      <td>False</td>\n",
              "      <td>False</td>\n",
              "      <td>False</td>\n",
              "      <td>False</td>\n",
              "      <td>False</td>\n",
              "      <td>False</td>\n",
              "      <td>False</td>\n",
              "    </tr>\n",
              "    <tr>\n",
              "      <th>539055</th>\n",
              "      <td>False</td>\n",
              "      <td>False</td>\n",
              "      <td>False</td>\n",
              "      <td>False</td>\n",
              "      <td>False</td>\n",
              "      <td>False</td>\n",
              "      <td>False</td>\n",
              "      <td>False</td>\n",
              "      <td>False</td>\n",
              "      <td>False</td>\n",
              "      <td>...</td>\n",
              "      <td>False</td>\n",
              "      <td>False</td>\n",
              "      <td>False</td>\n",
              "      <td>False</td>\n",
              "      <td>False</td>\n",
              "      <td>False</td>\n",
              "      <td>False</td>\n",
              "      <td>False</td>\n",
              "      <td>False</td>\n",
              "      <td>False</td>\n",
              "    </tr>\n",
              "    <tr>\n",
              "      <th>...</th>\n",
              "      <td>...</td>\n",
              "      <td>...</td>\n",
              "      <td>...</td>\n",
              "      <td>...</td>\n",
              "      <td>...</td>\n",
              "      <td>...</td>\n",
              "      <td>...</td>\n",
              "      <td>...</td>\n",
              "      <td>...</td>\n",
              "      <td>...</td>\n",
              "      <td>...</td>\n",
              "      <td>...</td>\n",
              "      <td>...</td>\n",
              "      <td>...</td>\n",
              "      <td>...</td>\n",
              "      <td>...</td>\n",
              "      <td>...</td>\n",
              "      <td>...</td>\n",
              "      <td>...</td>\n",
              "      <td>...</td>\n",
              "      <td>...</td>\n",
              "    </tr>\n",
              "    <tr>\n",
              "      <th>626432</th>\n",
              "      <td>False</td>\n",
              "      <td>False</td>\n",
              "      <td>False</td>\n",
              "      <td>False</td>\n",
              "      <td>False</td>\n",
              "      <td>False</td>\n",
              "      <td>False</td>\n",
              "      <td>False</td>\n",
              "      <td>False</td>\n",
              "      <td>False</td>\n",
              "      <td>...</td>\n",
              "      <td>False</td>\n",
              "      <td>False</td>\n",
              "      <td>False</td>\n",
              "      <td>False</td>\n",
              "      <td>False</td>\n",
              "      <td>False</td>\n",
              "      <td>False</td>\n",
              "      <td>False</td>\n",
              "      <td>False</td>\n",
              "      <td>False</td>\n",
              "    </tr>\n",
              "    <tr>\n",
              "      <th>606141</th>\n",
              "      <td>False</td>\n",
              "      <td>False</td>\n",
              "      <td>False</td>\n",
              "      <td>False</td>\n",
              "      <td>False</td>\n",
              "      <td>False</td>\n",
              "      <td>False</td>\n",
              "      <td>False</td>\n",
              "      <td>False</td>\n",
              "      <td>False</td>\n",
              "      <td>...</td>\n",
              "      <td>False</td>\n",
              "      <td>False</td>\n",
              "      <td>False</td>\n",
              "      <td>False</td>\n",
              "      <td>False</td>\n",
              "      <td>False</td>\n",
              "      <td>False</td>\n",
              "      <td>False</td>\n",
              "      <td>False</td>\n",
              "      <td>False</td>\n",
              "    </tr>\n",
              "    <tr>\n",
              "      <th>613658</th>\n",
              "      <td>False</td>\n",
              "      <td>False</td>\n",
              "      <td>False</td>\n",
              "      <td>False</td>\n",
              "      <td>False</td>\n",
              "      <td>False</td>\n",
              "      <td>False</td>\n",
              "      <td>False</td>\n",
              "      <td>False</td>\n",
              "      <td>False</td>\n",
              "      <td>...</td>\n",
              "      <td>False</td>\n",
              "      <td>False</td>\n",
              "      <td>False</td>\n",
              "      <td>False</td>\n",
              "      <td>False</td>\n",
              "      <td>False</td>\n",
              "      <td>False</td>\n",
              "      <td>False</td>\n",
              "      <td>False</td>\n",
              "      <td>False</td>\n",
              "    </tr>\n",
              "    <tr>\n",
              "      <th>548084</th>\n",
              "      <td>False</td>\n",
              "      <td>False</td>\n",
              "      <td>False</td>\n",
              "      <td>False</td>\n",
              "      <td>False</td>\n",
              "      <td>False</td>\n",
              "      <td>False</td>\n",
              "      <td>False</td>\n",
              "      <td>False</td>\n",
              "      <td>False</td>\n",
              "      <td>...</td>\n",
              "      <td>False</td>\n",
              "      <td>False</td>\n",
              "      <td>False</td>\n",
              "      <td>False</td>\n",
              "      <td>False</td>\n",
              "      <td>False</td>\n",
              "      <td>False</td>\n",
              "      <td>False</td>\n",
              "      <td>False</td>\n",
              "      <td>False</td>\n",
              "    </tr>\n",
              "    <tr>\n",
              "      <th>630213</th>\n",
              "      <td>False</td>\n",
              "      <td>False</td>\n",
              "      <td>False</td>\n",
              "      <td>False</td>\n",
              "      <td>False</td>\n",
              "      <td>False</td>\n",
              "      <td>False</td>\n",
              "      <td>False</td>\n",
              "      <td>False</td>\n",
              "      <td>False</td>\n",
              "      <td>...</td>\n",
              "      <td>False</td>\n",
              "      <td>False</td>\n",
              "      <td>False</td>\n",
              "      <td>False</td>\n",
              "      <td>False</td>\n",
              "      <td>False</td>\n",
              "      <td>False</td>\n",
              "      <td>False</td>\n",
              "      <td>False</td>\n",
              "      <td>False</td>\n",
              "    </tr>\n",
              "  </tbody>\n",
              "</table>\n",
              "<p>233154 rows × 40 columns</p>\n",
              "</div>\n",
              "      <button class=\"colab-df-convert\" onclick=\"convertToInteractive('df-c31c89ff-a34f-49dc-b1f9-5ad844b87bb9')\"\n",
              "              title=\"Convert this dataframe to an interactive table.\"\n",
              "              style=\"display:none;\">\n",
              "        \n",
              "  <svg xmlns=\"http://www.w3.org/2000/svg\" height=\"24px\"viewBox=\"0 0 24 24\"\n",
              "       width=\"24px\">\n",
              "    <path d=\"M0 0h24v24H0V0z\" fill=\"none\"/>\n",
              "    <path d=\"M18.56 5.44l.94 2.06.94-2.06 2.06-.94-2.06-.94-.94-2.06-.94 2.06-2.06.94zm-11 1L8.5 8.5l.94-2.06 2.06-.94-2.06-.94L8.5 2.5l-.94 2.06-2.06.94zm10 10l.94 2.06.94-2.06 2.06-.94-2.06-.94-.94-2.06-.94 2.06-2.06.94z\"/><path d=\"M17.41 7.96l-1.37-1.37c-.4-.4-.92-.59-1.43-.59-.52 0-1.04.2-1.43.59L10.3 9.45l-7.72 7.72c-.78.78-.78 2.05 0 2.83L4 21.41c.39.39.9.59 1.41.59.51 0 1.02-.2 1.41-.59l7.78-7.78 2.81-2.81c.8-.78.8-2.07 0-2.86zM5.41 20L4 18.59l7.72-7.72 1.47 1.35L5.41 20z\"/>\n",
              "  </svg>\n",
              "      </button>\n",
              "      \n",
              "  <style>\n",
              "    .colab-df-container {\n",
              "      display:flex;\n",
              "      flex-wrap:wrap;\n",
              "      gap: 12px;\n",
              "    }\n",
              "\n",
              "    .colab-df-convert {\n",
              "      background-color: #E8F0FE;\n",
              "      border: none;\n",
              "      border-radius: 50%;\n",
              "      cursor: pointer;\n",
              "      display: none;\n",
              "      fill: #1967D2;\n",
              "      height: 32px;\n",
              "      padding: 0 0 0 0;\n",
              "      width: 32px;\n",
              "    }\n",
              "\n",
              "    .colab-df-convert:hover {\n",
              "      background-color: #E2EBFA;\n",
              "      box-shadow: 0px 1px 2px rgba(60, 64, 67, 0.3), 0px 1px 3px 1px rgba(60, 64, 67, 0.15);\n",
              "      fill: #174EA6;\n",
              "    }\n",
              "\n",
              "    [theme=dark] .colab-df-convert {\n",
              "      background-color: #3B4455;\n",
              "      fill: #D2E3FC;\n",
              "    }\n",
              "\n",
              "    [theme=dark] .colab-df-convert:hover {\n",
              "      background-color: #434B5C;\n",
              "      box-shadow: 0px 1px 3px 1px rgba(0, 0, 0, 0.15);\n",
              "      filter: drop-shadow(0px 1px 2px rgba(0, 0, 0, 0.3));\n",
              "      fill: #FFFFFF;\n",
              "    }\n",
              "  </style>\n",
              "\n",
              "      <script>\n",
              "        const buttonEl =\n",
              "          document.querySelector('#df-c31c89ff-a34f-49dc-b1f9-5ad844b87bb9 button.colab-df-convert');\n",
              "        buttonEl.style.display =\n",
              "          google.colab.kernel.accessAllowed ? 'block' : 'none';\n",
              "\n",
              "        async function convertToInteractive(key) {\n",
              "          const element = document.querySelector('#df-c31c89ff-a34f-49dc-b1f9-5ad844b87bb9');\n",
              "          const dataTable =\n",
              "            await google.colab.kernel.invokeFunction('convertToInteractive',\n",
              "                                                     [key], {});\n",
              "          if (!dataTable) return;\n",
              "\n",
              "          const docLinkHtml = 'Like what you see? Visit the ' +\n",
              "            '<a target=\"_blank\" href=https://colab.research.google.com/notebooks/data_table.ipynb>data table notebook</a>'\n",
              "            + ' to learn more about interactive tables.';\n",
              "          element.innerHTML = '';\n",
              "          dataTable['output_type'] = 'display_data';\n",
              "          await google.colab.output.renderOutput(dataTable, element);\n",
              "          const docLink = document.createElement('div');\n",
              "          docLink.innerHTML = docLinkHtml;\n",
              "          element.appendChild(docLink);\n",
              "        }\n",
              "      </script>\n",
              "    </div>\n",
              "  </div>\n",
              "  "
            ]
          },
          "metadata": {},
          "execution_count": 13
        }
      ],
      "source": [
        "loan_df.isnull()"
      ]
    },
    {
      "source": [
        "[df.isnull](https://pandas.pydata.org/pandas-docs/stable/reference/api/pandas.isnull.html) outputs a DataFrame with a boolean value in each cell indicating the presence of a null value\n",
        "\n",
        "We can combine [df.isnull](https://pandas.pydata.org/pandas-docs/stable/reference/api/pandas.isnull.html) with [df.any](https://pandas.pydata.org/pandas-docs/stable/reference/api/pandas.DataFrame.any.html) to get a list of all columns with at least one missing value"
      ],
      "cell_type": "markdown",
      "metadata": {
        "id": "wQDJoVhsJNxa"
      }
    },
    {
      "cell_type": "code",
      "execution_count": 14,
      "metadata": {
        "colab": {
          "base_uri": "https://localhost:8080/"
        },
        "id": "TBZevAGIJNxa",
        "outputId": "6a260fad-2cc3-429a-e47b-a0d49acf0f53"
      },
      "outputs": [
        {
          "output_type": "execute_result",
          "data": {
            "text/plain": [
              "DISBURSED_AMOUNT                       False\n",
              "ASSET_COST                             False\n",
              "LTV                                    False\n",
              "BRANCH_ID                              False\n",
              "SUPPLIER_ID                            False\n",
              "MANUFACTURER_ID                        False\n",
              "CURRENT_PINCODE_ID                     False\n",
              "DATE_OF_BIRTH                          False\n",
              "EMPLOYMENT_TYPE                         True\n",
              "DISBURSAL_DATE                         False\n",
              "STATE_ID                               False\n",
              "EMPLOYEE_CODE_ID                       False\n",
              "MOBILENO_AVL_FLAG                      False\n",
              "AADHAR_FLAG                            False\n",
              "PAN_FLAG                               False\n",
              "VOTERID_FLAG                           False\n",
              "DRIVING_FLAG                           False\n",
              "PASSPORT_FLAG                          False\n",
              "PERFORM_CNS_SCORE                      False\n",
              "PERFORM_CNS_SCORE_DESCRIPTION          False\n",
              "PRI_NO_OF_ACCTS                        False\n",
              "PRI_ACTIVE_ACCTS                       False\n",
              "PRI_OVERDUE_ACCTS                      False\n",
              "PRI_CURRENT_BALANCE                    False\n",
              "PRI_SANCTIONED_AMOUNT                  False\n",
              "PRI_DISBURSED_AMOUNT                   False\n",
              "SEC_NO_OF_ACCTS                        False\n",
              "SEC_ACTIVE_ACCTS                       False\n",
              "SEC_OVERDUE_ACCTS                      False\n",
              "SEC_CURRENT_BALANCE                    False\n",
              "SEC_SANCTIONED_AMOUNT                  False\n",
              "SEC_DISBURSED_AMOUNT                   False\n",
              "PRIMARY_INSTAL_AMT                     False\n",
              "SEC_INSTAL_AMT                         False\n",
              "NEW_ACCTS_IN_LAST_SIX_MONTHS           False\n",
              "DELINQUENT_ACCTS_IN_LAST_SIX_MONTHS    False\n",
              "AVERAGE_ACCT_AGE                       False\n",
              "CREDIT_HISTORY_LENGTH                  False\n",
              "NO_OF_INQUIRIES                        False\n",
              "LOAN_DEFAULT                           False\n",
              "dtype: bool"
            ]
          },
          "metadata": {},
          "execution_count": 14
        }
      ],
      "source": [
        "loan_df.isnull().any()"
      ]
    },
    {
      "source": [
        "As expected, the only column with any null values is EMPLOYMENT_TYPE\n",
        "\n",
        "Combine [df.isnull](https://pandas.pydata.org/pandas-docs/stable/reference/api/pandas.isnull.html) with [df.sum](https://pandas.pydata.org/pandas-docs/stable/reference/api/pandas.DataFrame.sum.html) to get a count of missing values for all columns"
      ],
      "cell_type": "markdown",
      "metadata": {
        "id": "wJ5Qcvh-JNxa"
      }
    },
    {
      "cell_type": "code",
      "execution_count": 15,
      "metadata": {
        "colab": {
          "base_uri": "https://localhost:8080/"
        },
        "id": "tN0N89wyJNxa",
        "outputId": "25a78494-e0cf-45f8-cd82-ce3b1265f174"
      },
      "outputs": [
        {
          "output_type": "execute_result",
          "data": {
            "text/plain": [
              "DISBURSED_AMOUNT                          0\n",
              "ASSET_COST                                0\n",
              "LTV                                       0\n",
              "BRANCH_ID                                 0\n",
              "SUPPLIER_ID                               0\n",
              "MANUFACTURER_ID                           0\n",
              "CURRENT_PINCODE_ID                        0\n",
              "DATE_OF_BIRTH                             0\n",
              "EMPLOYMENT_TYPE                        7661\n",
              "DISBURSAL_DATE                            0\n",
              "STATE_ID                                  0\n",
              "EMPLOYEE_CODE_ID                          0\n",
              "MOBILENO_AVL_FLAG                         0\n",
              "AADHAR_FLAG                               0\n",
              "PAN_FLAG                                  0\n",
              "VOTERID_FLAG                              0\n",
              "DRIVING_FLAG                              0\n",
              "PASSPORT_FLAG                             0\n",
              "PERFORM_CNS_SCORE                         0\n",
              "PERFORM_CNS_SCORE_DESCRIPTION             0\n",
              "PRI_NO_OF_ACCTS                           0\n",
              "PRI_ACTIVE_ACCTS                          0\n",
              "PRI_OVERDUE_ACCTS                         0\n",
              "PRI_CURRENT_BALANCE                       0\n",
              "PRI_SANCTIONED_AMOUNT                     0\n",
              "PRI_DISBURSED_AMOUNT                      0\n",
              "SEC_NO_OF_ACCTS                           0\n",
              "SEC_ACTIVE_ACCTS                          0\n",
              "SEC_OVERDUE_ACCTS                         0\n",
              "SEC_CURRENT_BALANCE                       0\n",
              "SEC_SANCTIONED_AMOUNT                     0\n",
              "SEC_DISBURSED_AMOUNT                      0\n",
              "PRIMARY_INSTAL_AMT                        0\n",
              "SEC_INSTAL_AMT                            0\n",
              "NEW_ACCTS_IN_LAST_SIX_MONTHS              0\n",
              "DELINQUENT_ACCTS_IN_LAST_SIX_MONTHS       0\n",
              "AVERAGE_ACCT_AGE                          0\n",
              "CREDIT_HISTORY_LENGTH                     0\n",
              "NO_OF_INQUIRIES                           0\n",
              "LOAN_DEFAULT                              0\n",
              "dtype: int64"
            ]
          },
          "metadata": {},
          "execution_count": 15
        }
      ],
      "source": [
        "loan_df.isnull().sum()"
      ]
    },
    {
      "source": [
        "### Handling Missing Values\n",
        "\n",
        "Ok, we can see that EMPLOYMENT_TYPE has 7661 missing values so we should take a closer look,"
      ],
      "cell_type": "markdown",
      "metadata": {
        "id": "0dLCxlE9JNxb"
      }
    },
    {
      "source": [
        "### EXERCISE - Explore EMPLOYMENT_TYPE\n",
        "\n",
        "- Find out how many unique values are in the column\n",
        "- Hint: Remember how we used [value_counts](https://pandas.pydata.org/pandas-docs/stable/reference/api/pandas.Series.value_counts.html) and [catplot](https://seaborn.pydata.org/generated/seaborn.catplot.html) to explore the target variable"
      ],
      "cell_type": "markdown",
      "metadata": {
        "id": "AkCe3BhtJNxb"
      }
    },
    {
      "source": [
        "### SOLUTION\n",
        "\n",
        "- First, we use [value_counts](https://pandas.pydata.org/pandas-docs/stable/reference/api/pandas.Series.value_counts.html) to print 'EMPLOYMENT_TYPE' unique values with their counts \n",
        "- Next, we visualize this grouping using [catplot](https://seaborn.pydata.org/generated/seaborn.catplot.html)"
      ],
      "cell_type": "markdown",
      "metadata": {
        "id": "SXivN_IFJNxb"
      }
    },
    {
      "cell_type": "code",
      "execution_count": 16,
      "metadata": {
        "colab": {
          "base_uri": "https://localhost:8080/",
          "height": 501
        },
        "id": "gIkn70SUJNxb",
        "outputId": "94c41815-c483-4f49-aa39-26aae8184f4e"
      },
      "outputs": [
        {
          "output_type": "stream",
          "name": "stdout",
          "text": [
            "Self employed    127635\n",
            "Salaried          97858\n",
            "Name: EMPLOYMENT_TYPE, dtype: int64\n"
          ]
        },
        {
          "output_type": "display_data",
          "data": {
            "text/plain": [
              "<Figure size 640x480 with 1 Axes>"
            ],
            "image/png": "[encoded data removed]"
          },
          "metadata": {}
        }
      ],
      "source": [
        "print(loan_df['EMPLOYMENT_TYPE'].value_counts())\n",
        "sns.countplot(x=\"EMPLOYMENT_TYPE\", data=loan_df)\n",
        "plt.show()"
      ]
    },
    {
      "source": [
        "### Handling Missing Values - Continued\n",
        "\n",
        "Note that EMPLOYMENT_TYPE contains two unique values, 'Salaried' and 'Self Employed'\n",
        "\n",
        "Since there are relatively few missing values (7661) we can populate them with a placeholder 'Missing' using pandas [fillna](https://pandas.pydata.org/pandas-docs/stable/reference/api/pandas.DataFrame.fillna.html)"
      ],
      "cell_type": "markdown",
      "metadata": {
        "id": "eJM38jKJJNxb"
      }
    },
    {
      "cell_type": "code",
      "execution_count": 17,
      "metadata": {
        "id": "vTlvG_9OJNxb"
      },
      "outputs": [],
      "source": [
        "loan_df = loan_df.fillna(value={'EMPLOYMENT_TYPE' : 'Missing'})"
      ]
    },
    {
      "cell_type": "code",
      "execution_count": 18,
      "metadata": {
        "colab": {
          "base_uri": "https://localhost:8080/",
          "height": 518
        },
        "id": "Hzc9KB4WJNxc",
        "outputId": "60d7c671-0b50-481b-8141-df09f8e5f36c"
      },
      "outputs": [
        {
          "output_type": "stream",
          "name": "stdout",
          "text": [
            "Self employed    127635\n",
            "Salaried          97858\n",
            "Missing            7661\n",
            "Name: EMPLOYMENT_TYPE, dtype: int64\n"
          ]
        },
        {
          "output_type": "display_data",
          "data": {
            "text/plain": [
              "<Figure size 640x480 with 1 Axes>"
            ],
            "image/png": "[encoded data removed]"
          },
          "metadata": {}
        }
      ],
      "source": [
        "print(loan_df['EMPLOYMENT_TYPE'].value_counts())\n",
        "sns.countplot(x=\"EMPLOYMENT_TYPE\", data=loan_df)\n",
        "plt.show()"
      ]
    },
    {
      "source": [
        "We can see that the 7661 missing values for employment type have been labelled with the string 'Missing'"
      ],
      "cell_type": "markdown",
      "metadata": {
        "id": "r2cytigRJNxc"
      }
    },
    {
      "source": [
        "## Lesson 5 - Dealing with Dates\n",
        "\n",
        "- We have two date columns, DISBURSAL_DATE and DATE_OF_BIRTH\n",
        "- These should be transformed into a more algorithm friendly format"
      ],
      "cell_type": "markdown",
      "metadata": {
        "id": "7r3lZQjRJNxc"
      }
    },
    {
      "cell_type": "code",
      "execution_count": 19,
      "metadata": {
        "colab": {
          "base_uri": "https://localhost:8080/",
          "height": 394
        },
        "id": "k0zAYrXsJNxc",
        "outputId": "c6e10b36-87bb-4339-b268-7777fba0b829"
      },
      "outputs": [
        {
          "output_type": "execute_result",
          "data": {
            "text/plain": [
              "         DISBURSAL_DATE DATE_OF_BIRTH\n",
              "UNIQUEID                             \n",
              "632684       2018-10-27    16-02-1991\n",
              "489226       2018-04-09    01-01-1998\n",
              "489967       2018-05-09    01-01-1989\n",
              "451914       2018-08-21    14-02-1991\n",
              "539199       2018-09-26    15-07-1990\n",
              "538918       2018-09-26    20-10-1962\n",
              "488764       2018-04-09    04-09-1990\n",
              "427523       2018-08-08    01-01-1994\n",
              "658628       2018-10-31    29-05-1991\n",
              "626940       2018-10-26    10-03-1982"
            ],
            "text/html": [
              "\n",
              "  <div id=\"df-0f681080-66c3-480e-ab87-bf9e576f0f15\">\n",
              "    <div class=\"colab-df-container\">\n",
              "      <div>\n",
              "<style scoped>\n",
              "    .dataframe tbody tr th:only-of-type {\n",
              "        vertical-align: middle;\n",
              "    }\n",
              "\n",
              "    .dataframe tbody tr th {\n",
              "        vertical-align: top;\n",
              "    }\n",
              "\n",
              "    .dataframe thead th {\n",
              "        text-align: right;\n",
              "    }\n",
              "</style>\n",
              "<table border=\"1\" class=\"dataframe\">\n",
              "  <thead>\n",
              "    <tr style=\"text-align: right;\">\n",
              "      <th></th>\n",
              "      <th>DISBURSAL_DATE</th>\n",
              "      <th>DATE_OF_BIRTH</th>\n",
              "    </tr>\n",
              "    <tr>\n",
              "      <th>UNIQUEID</th>\n",
              "      <th></th>\n",
              "      <th></th>\n",
              "    </tr>\n",
              "  </thead>\n",
              "  <tbody>\n",
              "    <tr>\n",
              "      <th>632684</th>\n",
              "      <td>2018-10-27</td>\n",
              "      <td>16-02-1991</td>\n",
              "    </tr>\n",
              "    <tr>\n",
              "      <th>489226</th>\n",
              "      <td>2018-04-09</td>\n",
              "      <td>01-01-1998</td>\n",
              "    </tr>\n",
              "    <tr>\n",
              "      <th>489967</th>\n",
              "      <td>2018-05-09</td>\n",
              "      <td>01-01-1989</td>\n",
              "    </tr>\n",
              "    <tr>\n",
              "      <th>451914</th>\n",
              "      <td>2018-08-21</td>\n",
              "      <td>14-02-1991</td>\n",
              "    </tr>\n",
              "    <tr>\n",
              "      <th>539199</th>\n",
              "      <td>2018-09-26</td>\n",
              "      <td>15-07-1990</td>\n",
              "    </tr>\n",
              "    <tr>\n",
              "      <th>538918</th>\n",
              "      <td>2018-09-26</td>\n",
              "      <td>20-10-1962</td>\n",
              "    </tr>\n",
              "    <tr>\n",
              "      <th>488764</th>\n",
              "      <td>2018-04-09</td>\n",
              "      <td>04-09-1990</td>\n",
              "    </tr>\n",
              "    <tr>\n",
              "      <th>427523</th>\n",
              "      <td>2018-08-08</td>\n",
              "      <td>01-01-1994</td>\n",
              "    </tr>\n",
              "    <tr>\n",
              "      <th>658628</th>\n",
              "      <td>2018-10-31</td>\n",
              "      <td>29-05-1991</td>\n",
              "    </tr>\n",
              "    <tr>\n",
              "      <th>626940</th>\n",
              "      <td>2018-10-26</td>\n",
              "      <td>10-03-1982</td>\n",
              "    </tr>\n",
              "  </tbody>\n",
              "</table>\n",
              "</div>\n",
              "      <button class=\"colab-df-convert\" onclick=\"convertToInteractive('df-0f681080-66c3-480e-ab87-bf9e576f0f15')\"\n",
              "              title=\"Convert this dataframe to an interactive table.\"\n",
              "              style=\"display:none;\">\n",
              "        \n",
              "  <svg xmlns=\"http://www.w3.org/2000/svg\" height=\"24px\"viewBox=\"0 0 24 24\"\n",
              "       width=\"24px\">\n",
              "    <path d=\"M0 0h24v24H0V0z\" fill=\"none\"/>\n",
              "    <path d=\"M18.56 5.44l.94 2.06.94-2.06 2.06-.94-2.06-.94-.94-2.06-.94 2.06-2.06.94zm-11 1L8.5 8.5l.94-2.06 2.06-.94-2.06-.94L8.5 2.5l-.94 2.06-2.06.94zm10 10l.94 2.06.94-2.06 2.06-.94-2.06-.94-.94-2.06-.94 2.06-2.06.94z\"/><path d=\"M17.41 7.96l-1.37-1.37c-.4-.4-.92-.59-1.43-.59-.52 0-1.04.2-1.43.59L10.3 9.45l-7.72 7.72c-.78.78-.78 2.05 0 2.83L4 21.41c.39.39.9.59 1.41.59.51 0 1.02-.2 1.41-.59l7.78-7.78 2.81-2.81c.8-.78.8-2.07 0-2.86zM5.41 20L4 18.59l7.72-7.72 1.47 1.35L5.41 20z\"/>\n",
              "  </svg>\n",
              "      </button>\n",
              "      \n",
              "  <style>\n",
              "    .colab-df-container {\n",
              "      display:flex;\n",
              "      flex-wrap:wrap;\n",
              "      gap: 12px;\n",
              "    }\n",
              "\n",
              "    .colab-df-convert {\n",
              "      background-color: #E8F0FE;\n",
              "      border: none;\n",
              "      border-radius: 50%;\n",
              "      cursor: pointer;\n",
              "      display: none;\n",
              "      fill: #1967D2;\n",
              "      height: 32px;\n",
              "      padding: 0 0 0 0;\n",
              "      width: 32px;\n",
              "    }\n",
              "\n",
              "    .colab-df-convert:hover {\n",
              "      background-color: #E2EBFA;\n",
              "      box-shadow: 0px 1px 2px rgba(60, 64, 67, 0.3), 0px 1px 3px 1px rgba(60, 64, 67, 0.15);\n",
              "      fill: #174EA6;\n",
              "    }\n",
              "\n",
              "    [theme=dark] .colab-df-convert {\n",
              "      background-color: #3B4455;\n",
              "      fill: #D2E3FC;\n",
              "    }\n",
              "\n",
              "    [theme=dark] .colab-df-convert:hover {\n",
              "      background-color: #434B5C;\n",
              "      box-shadow: 0px 1px 3px 1px rgba(0, 0, 0, 0.15);\n",
              "      filter: drop-shadow(0px 1px 2px rgba(0, 0, 0, 0.3));\n",
              "      fill: #FFFFFF;\n",
              "    }\n",
              "  </style>\n",
              "\n",
              "      <script>\n",
              "        const buttonEl =\n",
              "          document.querySelector('#df-0f681080-66c3-480e-ab87-bf9e576f0f15 button.colab-df-convert');\n",
              "        buttonEl.style.display =\n",
              "          google.colab.kernel.accessAllowed ? 'block' : 'none';\n",
              "\n",
              "        async function convertToInteractive(key) {\n",
              "          const element = document.querySelector('#df-0f681080-66c3-480e-ab87-bf9e576f0f15');\n",
              "          const dataTable =\n",
              "            await google.colab.kernel.invokeFunction('convertToInteractive',\n",
              "                                                     [key], {});\n",
              "          if (!dataTable) return;\n",
              "\n",
              "          const docLinkHtml = 'Like what you see? Visit the ' +\n",
              "            '<a target=\"_blank\" href=https://colab.research.google.com/notebooks/data_table.ipynb>data table notebook</a>'\n",
              "            + ' to learn more about interactive tables.';\n",
              "          element.innerHTML = '';\n",
              "          dataTable['output_type'] = 'display_data';\n",
              "          await google.colab.output.renderOutput(dataTable, element);\n",
              "          const docLink = document.createElement('div');\n",
              "          docLink.innerHTML = docLinkHtml;\n",
              "          element.appendChild(docLink);\n",
              "        }\n",
              "      </script>\n",
              "    </div>\n",
              "  </div>\n",
              "  "
            ]
          },
          "metadata": {},
          "execution_count": 19
        }
      ],
      "source": [
        "loan_df[['DISBURSAL_DATE', 'DATE_OF_BIRTH']].sample(10)"
      ]
    },
    {
      "source": [
        "### Calculating Age \n",
        "\n",
        "- Intuitively it is fair to assume that age is associated with loan default risk \n",
        "- However, we currently do not have a measure of age, only date of birth\n",
        "\n",
        "\n",
        "### EXERCISE \n",
        "\n",
        "- Can you create a new column 'AGE' based on the existing DATE_OF_BIRTH and DISUBURAL_DATE columns\n",
        "- HINT: use [pd.to_datetime](https://pandas.pydata.org/pandas-docs/stable/reference/api/pandas.to_datetime.html) to convert from string to datetime"
      ],
      "cell_type": "markdown",
      "metadata": {
        "id": "hN3sgea9JNxc"
      }
    },
    {
      "source": [
        "### SOLUTION"
      ],
      "cell_type": "markdown",
      "metadata": {
        "id": "oO9-QGXGJNxc"
      }
    },
    {
      "cell_type": "code",
      "execution_count": null,
      "metadata": {
        "id": "3aOaYbGhJNxd"
      },
      "outputs": [],
      "source": [
        "loan_df['DATE_OF_BIRTH'] = pd.to_datetime(loan_df['DATE_OF_BIRTH'])\n",
        "loan_df['DISBURSAL_DATE'] = pd.to_datetime(loan_df['DISBURSAL_DATE'])\n",
        "\n",
        "#calculate their age at time of disbursal\n",
        "loan_df['AGE'] = loan_df['DISBURSAL_DATE'] - loan_df['DATE_OF_BIRTH']\n",
        "loan_df['AGE'] = loan_df['AGE'] // np.timedelta64(1, 'Y')\n",
        "\n",
        "#Inspect the results\n",
        "print(loan_df[['DATE_OF_BIRTH', 'AGE', 'DISBURSAL_DATE']].sample(n=5))"
      ]
    },
    {
      "source": [
        "### SOLUTION - EXPLAINED\n",
        "\n",
        "- First, make sure that DATE_OF_BIRTH and DISBURSAL_DATE are datetimes"
      ],
      "cell_type": "markdown",
      "metadata": {
        "id": "LNCCq2wqJNxd"
      }
    },
    {
      "cell_type": "code",
      "execution_count": 21,
      "metadata": {
        "colab": {
          "base_uri": "https://localhost:8080/"
        },
        "id": "zHaNxZPLJNxd",
        "outputId": "53f857f5-e14a-4148-9ceb-8c9cf035c6b2"
      },
      "outputs": [
        {
          "output_type": "stream",
          "name": "stdout",
          "text": [
            "DATE_OF_BIRTH variable type:  datetime64[ns]\n",
            "DISBURSAL_DATE variable type:  datetime64[ns]\n"
          ]
        }
      ],
      "source": [
        "loan_df['DATE_OF_BIRTH'] = pd.to_datetime(loan_df['DATE_OF_BIRTH'])\n",
        "loan_df['DISBURSAL_DATE'] = pd.to_datetime(loan_df['DISBURSAL_DATE'])\n",
        "\n",
        "print(\"DATE_OF_BIRTH variable type: \", loan_df['DATE_OF_BIRTH'].dtypes)\n",
        "print(\"DISBURSAL_DATE variable type: \", loan_df['DISBURSAL_DATE'].dtypes)"
      ]
    },
    {
      "source": [
        "- now calculate the difference between DISBURSAL_DATE and DATE_OF_BIRTH"
      ],
      "cell_type": "markdown",
      "metadata": {
        "id": "6Jrf_VTsJNxd"
      }
    },
    {
      "cell_type": "code",
      "execution_count": null,
      "metadata": {
        "id": "Bqw0g22EJNxd"
      },
      "outputs": [],
      "source": [
        "loan_df['AGE'] = loan_df['DISBURSAL_DATE'] - loan_df['DATE_OF_BIRTH']\n",
        "loan_df['AGE'].sample(n=10)"
      ]
    },
    {
      "source": [
        "- now we have the age in days \n",
        "- divide age by 1 year\n",
        "- // operator performs division and rounds down to the nearest whole number"
      ],
      "cell_type": "markdown",
      "metadata": {
        "id": "HLAsQ_7vJNxd"
      }
    },
    {
      "cell_type": "code",
      "execution_count": null,
      "metadata": {
        "id": "vURyZmohJNxd"
      },
      "outputs": [],
      "source": [
        "loan_df['AGE'] = loan_df['AGE'] // np.timedelta64(1, 'Y')"
      ]
    },
    {
      "source": [
        "- sanity check our output"
      ],
      "cell_type": "markdown",
      "metadata": {
        "id": "zOE-QNqVJNxd"
      }
    },
    {
      "cell_type": "code",
      "execution_count": null,
      "metadata": {
        "id": "sjumxbUhJNxe"
      },
      "outputs": [],
      "source": [
        "print(loan_df[['DATE_OF_BIRTH', 'AGE', 'DISBURSAL_DATE']].sample(n=5))"
      ]
    },
    {
      "source": [
        "### Disbursal Month\n",
        "\n",
        "- At this point, we do not know how the disbursal date might be related to loan defaults\n",
        "- We want to explore this relationship so need to convert to a numeric representation\n",
        "\n",
        "### EXERCISE \n",
        "\n",
        "- Can you create a new column 'DISBURSAL_MONTH' to store the disbursal month as an integer\n",
        "- HINT: pandas [dt](https://pandas.pydata.org/pandas-docs/stable/reference/api/pandas.Series.dt.html) allows us to extract month as an integer from a datetime"
      ],
      "cell_type": "markdown",
      "metadata": {
        "id": "ggyRTWXpJNxe"
      }
    },
    {
      "source": [
        "### SOLUTION"
      ],
      "cell_type": "markdown",
      "metadata": {
        "id": "aAIvN0ibJNxe"
      }
    },
    {
      "cell_type": "code",
      "execution_count": null,
      "metadata": {
        "id": "r2XSZIGJJNxe"
      },
      "outputs": [],
      "source": [
        "loan_df['DISBURSAL_MONTH'] = loan_df['DISBURSAL_DATE'].dt.month\n",
        "loan_df['DISBURSAL_MONTH'].value_counts()"
      ]
    },
    {
      "source": [
        "As we can see, the distribution of loan disbursals is not even across all months, we will look into this in future lessons but for now, we can drop the disbursal date column.\n",
        "\n",
        "We can now [drop](https://pandas.pydata.org/pandas-docs/stable/reference/api/pandas.DataFrame.drop.html) DISBURSAL_DATE and DATE_OF_BIRTH from our data "
      ],
      "cell_type": "markdown",
      "metadata": {
        "id": "E3tduCKoJNxe"
      }
    },
    {
      "cell_type": "code",
      "execution_count": null,
      "metadata": {
        "id": "ApT6xPxOJNxe"
      },
      "outputs": [],
      "source": [
        "loan_df = loan_df.drop(['DISBURSAL_DATE', 'DATE_OF_BIRTH'], axis=1)"
      ]
    },
    {
      "source": [
        "## Lesson 6 - Fix the Strings\n",
        "\n",
        "- AVERAGE_ACCT_AGE and CREDIT_HISTORY_LENGTH were also strings \n",
        "- Column names suggest they should be numeric, let's take a look "
      ],
      "cell_type": "markdown",
      "metadata": {
        "id": "16crXKw4JNxe"
      }
    },
    {
      "source": [
        "### String Fields\n",
        "\n",
        "- Can select a subset of DataFrame columns by passing in a list of column names,  [indexing](https://pandas.pydata.org/pandas-docs/stable/user_guide/indexing.html)\n",
        "- [df.sample](https://pandas.pydata.org/pandas-docs/stable/reference/api/pandas.DataFrame.sample.html) can be used to pull a random sample of n rows"
      ],
      "cell_type": "markdown",
      "metadata": {
        "id": "IS3MUD7sJNxf"
      }
    },
    {
      "cell_type": "code",
      "execution_count": null,
      "metadata": {
        "id": "erkoYXTQJNxf"
      },
      "outputs": [],
      "source": [
        "loan_df[['CREDIT_HISTORY_LENGTH', 'AVERAGE_ACCT_AGE']].sample(n=10)"
      ]
    },
    {
      "source": [
        "Both columns contain measures of time in the format \"0yrs 0mon\"\n",
        "\n",
        "This string representation is not useful for analysis or prediction so let's convert it into a number"
      ],
      "cell_type": "markdown",
      "metadata": {
        "id": "KHMbEwVNJNxf"
      }
    },
    {
      "source": [
        "### String Manipulation\n",
        "\n",
        "The current format of AVERAGE_ACCT_AGE and CREDIT_HISTORY_LENGTH is not useful\n",
        "\n",
        "### EXERCISE\n",
        "\n",
        "- Can you create a new column 'AVERAGE_ACCT_AGE_MONTHS' to store the average account age as an integer of months?\n",
        "- HINT: First think about how to extract numbers from the String\n",
        "- HINT: [df['COL_NAME'].map()](https://pandas.pydata.org/pandas-docs/stable/reference/api/pandas.Series.map.html) can be used to perform functions/operations on an entire column"
      ],
      "cell_type": "markdown",
      "metadata": {
        "id": "fHqEueCuJNxf"
      }
    },
    {
      "source": [
        "### SOLUTION \n",
        "\n",
        "### Step 1 - Create a function which can calculate the total number of months based on a list of input strings\n",
        "\n",
        "The calc_months function simply takes the list of two numbers stored in AVERAGE_ACCT_AGE_MONTHS\n",
        "\n",
        "- We recognize that the first number is the number of years \n",
        "- The second is the number of months \n",
        "- Simple calculation to get the total number of years"
      ],
      "cell_type": "markdown",
      "metadata": {
        "id": "OAJm5ukIJNxf"
      }
    },
    {
      "cell_type": "code",
      "execution_count": null,
      "metadata": {
        "id": "AitG9GXKJNxf"
      },
      "outputs": [],
      "source": [
        "def calc_months(str_list):  \n",
        "    years = int(str_list[0])\n",
        "    months = int(str_list[1])\n",
        "\n",
        "    num_months = (years * 12) + months\n",
        "    return num_months"
      ]
    },
    {
      "source": [
        "### Step 2 - Extract the relevant numbers from the original string data\n",
        "\n",
        "Pandas str.findall can be used to find all instances of a string within a column\n",
        "\n",
        "the '\\d+' is a regular expression which finds integers in a string\n",
        "\n",
        "regular expressions can be used to identify and extract patterns in strings\n",
        "all you need to know for know is that loan_df'AVERAGE_ACCT_AGE'.str.findall('\\d+') returns a list of all the numbers in the string stored in the 'AVERAGE_ACCT_AGE' column"
      ],
      "cell_type": "markdown",
      "metadata": {
        "id": "IsLmEXKTJNxf"
      }
    },
    {
      "cell_type": "code",
      "execution_count": null,
      "metadata": {
        "id": "xrUz57gbJNxf"
      },
      "outputs": [],
      "source": [
        "loan_df['AVERAGE_ACCT_AGE_MONTHS'] = loan_df['AVERAGE_ACCT_AGE'].str.findall('\\d+')\n",
        "print(loan_df['AVERAGE_ACCT_AGE_MONTHS'].sample(n=10))"
      ]
    },
    {
      "source": [
        "This creates a column 'AVERAGE_ACCT_AGE_MONTHS' which stores a list of numbers where the first item represents the number of years and the second represents the number of months\n",
        "\n",
        "### Step 3 - Use map to perform calc_months across all rows\n",
        "\n",
        "Use [map](https://pandas.pydata.org/pandas-docs/stable/reference/api/pandas.Series.map.html) to apply a function which calculates the total number of months for each row in the dataframe"
      ],
      "cell_type": "markdown",
      "metadata": {
        "id": "4l-qnIApJNxg"
      }
    },
    {
      "cell_type": "code",
      "execution_count": null,
      "metadata": {
        "id": "5Jd2oPm_JNxg"
      },
      "outputs": [],
      "source": [
        "loan_df['AVERAGE_ACCT_AGE_MONTHS'] = loan_df['AVERAGE_ACCT_AGE_MONTHS'].map(calc_months)"
      ]
    },
    {
      "source": [
        "### Step 4 - Inspect the results"
      ],
      "cell_type": "markdown",
      "metadata": {
        "id": "nSZgVBSIJNxg"
      }
    },
    {
      "cell_type": "code",
      "execution_count": null,
      "metadata": {
        "id": "QoG5iAnzJNxg"
      },
      "outputs": [],
      "source": [
        "print(loan_df[['AVERAGE_ACCT_AGE_MONTHS', 'AVERAGE_ACCT_AGE']].sample(n=10))"
      ]
    },
    {
      "source": [
        "### More String Manipulation\n",
        "\n",
        "- Great, now we have fixed AVERAGE_ACCT_AGE how about CREDIT_HISTORY_LENGTH?\n",
        "- We could simply copy and paste our solution from the previous exercise\n",
        "- How about if we had 20 columns to fix instead of 2?\n",
        "\n",
        "### EXERCISE\n",
        "\n",
        "- Convert your solution to the previous exercise into a function and use it to fix CREDIT_HISTORY_LENGTH"
      ],
      "cell_type": "markdown",
      "metadata": {
        "id": "ItlGpFgcJNxg"
      }
    },
    {
      "source": [
        "### SOLUTION"
      ],
      "cell_type": "markdown",
      "metadata": {
        "id": "3wjGxFWVJNxg"
      }
    },
    {
      "cell_type": "code",
      "execution_count": null,
      "metadata": {
        "id": "YBIbzI4OJNxh"
      },
      "outputs": [],
      "source": [
        "def convert_str_to_months(col_name):\n",
        "    new_col = col_name + '_MONTHS'\n",
        "    loan_df[new_col] = loan_df[col_name].str.findall('\\d+')\n",
        "    loan_df[new_col] = loan_df[new_col].map(calc_months)\n"
      ]
    },
    {
      "source": [
        "Run the function and check the output"
      ],
      "cell_type": "markdown",
      "metadata": {
        "id": "JtimqsOnJNxh"
      }
    },
    {
      "cell_type": "code",
      "execution_count": null,
      "metadata": {
        "id": "-g5zX0VrJNxh"
      },
      "outputs": [],
      "source": [
        "convert_str_to_months('CREDIT_HISTORY_LENGTH')\n",
        "loan_df[['CREDIT_HISTORY_LENGTH_MONTHS', 'CREDIT_HISTORY_LENGTH']].sample(n=5)"
      ]
    },
    {
      "source": [
        "Looks good, remember to drop the columns you don't need"
      ],
      "cell_type": "markdown",
      "metadata": {
        "id": "uIz_2rArJNxh"
      }
    },
    {
      "cell_type": "code",
      "execution_count": null,
      "metadata": {
        "id": "s4bSO9DPJNxh"
      },
      "outputs": [],
      "source": [
        "loan_df = loan_df.drop(['AVERAGE_ACCT_AGE', 'CREDIT_HISTORY_LENGTH'], axis=1)"
      ]
    },
    {
      "source": [
        "### Conclusion \n",
        "\n",
        "- We have now cleaned all of the ‘object’ columns except ‘PERFORM_CNS_SCORE_DESCRIPTION’\n",
        "- Use [value_counts](https://pandas.pydata.org/pandas-docs/stable/reference/api/pandas.Series.value_counts.html) to have a quick look at this "
      ],
      "cell_type": "markdown",
      "metadata": {
        "id": "ITPYxGYtJNxh"
      }
    },
    {
      "cell_type": "code",
      "execution_count": null,
      "metadata": {
        "id": "0YGLjJQeJNxi"
      },
      "outputs": [],
      "source": [
        "loan_df['PERFORM_CNS_SCORE_DESCRIPTION'].value_counts()"
      ]
    },
    {
      "source": [
        "Looks like a categorical field, we will look at this again in the next chapter\n",
        "\n",
        "We are now finished with our data clean up, let's save our clean data to a new csv using [df.to_csv](https://pandas.pydata.org/pandas-docs/stable/reference/api/pandas.DataFrame.to_csv.html)"
      ],
      "cell_type": "markdown",
      "metadata": {
        "id": "VuPvmo4kJNxi"
      }
    },
    {
      "cell_type": "code",
      "execution_count": null,
      "metadata": {
        "id": "cbMXqhi_JNxi"
      },
      "outputs": [],
      "source": [
        "loan_df.to_csv('../data/vehicle_loans_clean.csv')"
      ]
    },
    {
      "cell_type": "code",
      "execution_count": null,
      "metadata": {
        "id": "zdLMW0jmJNxi"
      },
      "outputs": [],
      "source": []
    }
  ]
}